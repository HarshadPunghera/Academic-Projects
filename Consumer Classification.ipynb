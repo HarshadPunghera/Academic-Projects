{
 "cells": [
  {
   "cell_type": "markdown",
   "metadata": {},
   "source": [
    "# Classification"
   ]
  },
  {
   "cell_type": "code",
   "execution_count": 1,
   "metadata": {},
   "outputs": [],
   "source": [
    "import pandas as pd"
   ]
  },
  {
   "cell_type": "code",
   "execution_count": 2,
   "metadata": {},
   "outputs": [],
   "source": [
    "df=pd.read_excel('Consumer_Confidence_Survey.xlsx')"
   ]
  },
  {
   "cell_type": "code",
   "execution_count": 3,
   "metadata": {
    "scrolled": true
   },
   "outputs": [
    {
     "data": {
      "text/html": [
       "<div>\n",
       "<style scoped>\n",
       "    .dataframe tbody tr th:only-of-type {\n",
       "        vertical-align: middle;\n",
       "    }\n",
       "\n",
       "    .dataframe tbody tr th {\n",
       "        vertical-align: top;\n",
       "    }\n",
       "\n",
       "    .dataframe thead th {\n",
       "        text-align: right;\n",
       "    }\n",
       "</style>\n",
       "<table border=\"1\" class=\"dataframe\">\n",
       "  <thead>\n",
       "    <tr style=\"text-align: right;\">\n",
       "      <th></th>\n",
       "      <th>Serial No.</th>\n",
       "      <th>Period</th>\n",
       "      <th>City</th>\n",
       "      <th>Age</th>\n",
       "      <th>Gender</th>\n",
       "      <th>Annual Income</th>\n",
       "      <th>Assembly Constituency Name</th>\n",
       "      <th>Educational Qualification</th>\n",
       "      <th>No. of Family Members</th>\n",
       "      <th>No. of Earning members in the family</th>\n",
       "      <th>Occupation of Respondent</th>\n",
       "    </tr>\n",
       "  </thead>\n",
       "  <tbody>\n",
       "    <tr>\n",
       "      <th>0</th>\n",
       "      <td>1</td>\n",
       "      <td>2019-07-31</td>\n",
       "      <td>Ahmedabad</td>\n",
       "      <td>22-29 year</td>\n",
       "      <td>Female</td>\n",
       "      <td>Rs. 1 lakh or less</td>\n",
       "      <td>Amaraiwadi</td>\n",
       "      <td>12th Std</td>\n",
       "      <td>5 and more</td>\n",
       "      <td>3</td>\n",
       "      <td>House wife</td>\n",
       "    </tr>\n",
       "    <tr>\n",
       "      <th>1</th>\n",
       "      <td>2</td>\n",
       "      <td>2019-07-31</td>\n",
       "      <td>Ahmedabad</td>\n",
       "      <td>22-29 year</td>\n",
       "      <td>Female</td>\n",
       "      <td>Rs. 1 lakh or less</td>\n",
       "      <td>Amaraiwadi</td>\n",
       "      <td>5th Std-Below 10th Std</td>\n",
       "      <td>5 and more</td>\n",
       "      <td>2</td>\n",
       "      <td>Daily worker</td>\n",
       "    </tr>\n",
       "    <tr>\n",
       "      <th>2</th>\n",
       "      <td>3</td>\n",
       "      <td>2019-07-31</td>\n",
       "      <td>Ahmedabad</td>\n",
       "      <td>22-29 year</td>\n",
       "      <td>Female</td>\n",
       "      <td>Rs. 1 lakh or less</td>\n",
       "      <td>Amaraiwadi</td>\n",
       "      <td>Below 5th Std</td>\n",
       "      <td>3 or 4</td>\n",
       "      <td>1</td>\n",
       "      <td>House wife</td>\n",
       "    </tr>\n",
       "    <tr>\n",
       "      <th>3</th>\n",
       "      <td>4</td>\n",
       "      <td>2019-07-31</td>\n",
       "      <td>Ahmedabad</td>\n",
       "      <td>22-29 year</td>\n",
       "      <td>Female</td>\n",
       "      <td>Rs. 1 lakh or less</td>\n",
       "      <td>Amaraiwadi</td>\n",
       "      <td>Graduate</td>\n",
       "      <td>5 and more</td>\n",
       "      <td>1</td>\n",
       "      <td>House wife</td>\n",
       "    </tr>\n",
       "    <tr>\n",
       "      <th>4</th>\n",
       "      <td>5</td>\n",
       "      <td>2019-07-31</td>\n",
       "      <td>Ahmedabad</td>\n",
       "      <td>22-29 year</td>\n",
       "      <td>Female</td>\n",
       "      <td>Rs. 1 lakh or less</td>\n",
       "      <td>Amaraiwadi</td>\n",
       "      <td>Illiterate</td>\n",
       "      <td>5 and more</td>\n",
       "      <td>1</td>\n",
       "      <td>House wife</td>\n",
       "    </tr>\n",
       "    <tr>\n",
       "      <th>5</th>\n",
       "      <td>6</td>\n",
       "      <td>2019-07-31</td>\n",
       "      <td>Ahmedabad</td>\n",
       "      <td>22-29 year</td>\n",
       "      <td>Female</td>\n",
       "      <td>Rs. 1 lakh or less</td>\n",
       "      <td>Amaraiwadi</td>\n",
       "      <td>Illiterate</td>\n",
       "      <td>5 and more</td>\n",
       "      <td>2</td>\n",
       "      <td>House wife</td>\n",
       "    </tr>\n",
       "    <tr>\n",
       "      <th>6</th>\n",
       "      <td>7</td>\n",
       "      <td>2019-07-31</td>\n",
       "      <td>Ahmedabad</td>\n",
       "      <td>22-29 year</td>\n",
       "      <td>Female</td>\n",
       "      <td>Rs. 1 lakh or less</td>\n",
       "      <td>Amaraiwadi</td>\n",
       "      <td>Post Graduate</td>\n",
       "      <td>5 and more</td>\n",
       "      <td>1</td>\n",
       "      <td>Employed</td>\n",
       "    </tr>\n",
       "    <tr>\n",
       "      <th>7</th>\n",
       "      <td>8</td>\n",
       "      <td>2019-07-31</td>\n",
       "      <td>Ahmedabad</td>\n",
       "      <td>22-29 year</td>\n",
       "      <td>Female</td>\n",
       "      <td>Rs. 1 lakh or less</td>\n",
       "      <td>Asarwa</td>\n",
       "      <td>10th Std-Below 12th Std</td>\n",
       "      <td>5 and more</td>\n",
       "      <td>1</td>\n",
       "      <td>Unemployed</td>\n",
       "    </tr>\n",
       "    <tr>\n",
       "      <th>8</th>\n",
       "      <td>9</td>\n",
       "      <td>2019-07-31</td>\n",
       "      <td>Ahmedabad</td>\n",
       "      <td>22-29 year</td>\n",
       "      <td>Female</td>\n",
       "      <td>Rs. 1 lakh or less</td>\n",
       "      <td>Asarwa</td>\n",
       "      <td>12th Std</td>\n",
       "      <td>5 and more</td>\n",
       "      <td>3</td>\n",
       "      <td>Unemployed</td>\n",
       "    </tr>\n",
       "    <tr>\n",
       "      <th>9</th>\n",
       "      <td>10</td>\n",
       "      <td>2019-07-31</td>\n",
       "      <td>Ahmedabad</td>\n",
       "      <td>22-29 year</td>\n",
       "      <td>Female</td>\n",
       "      <td>Rs. 1 lakh or less</td>\n",
       "      <td>Asarwa</td>\n",
       "      <td>5th Std-Below 10th Std</td>\n",
       "      <td>3 or 4</td>\n",
       "      <td>1</td>\n",
       "      <td>House wife</td>\n",
       "    </tr>\n",
       "    <tr>\n",
       "      <th>10</th>\n",
       "      <td>11</td>\n",
       "      <td>2019-07-31</td>\n",
       "      <td>Ahmedabad</td>\n",
       "      <td>22-29 year</td>\n",
       "      <td>Female</td>\n",
       "      <td>Rs. 1 lakh or less</td>\n",
       "      <td>Asarwa</td>\n",
       "      <td>5th Std-Below 10th Std</td>\n",
       "      <td>3 or 4</td>\n",
       "      <td>1</td>\n",
       "      <td>House wife</td>\n",
       "    </tr>\n",
       "    <tr>\n",
       "      <th>11</th>\n",
       "      <td>12</td>\n",
       "      <td>2019-07-31</td>\n",
       "      <td>Ahmedabad</td>\n",
       "      <td>22-29 year</td>\n",
       "      <td>Female</td>\n",
       "      <td>Rs. 1 lakh or less</td>\n",
       "      <td>Asarwa</td>\n",
       "      <td>Below 5th Std</td>\n",
       "      <td>5 and more</td>\n",
       "      <td>2</td>\n",
       "      <td>House wife</td>\n",
       "    </tr>\n",
       "    <tr>\n",
       "      <th>12</th>\n",
       "      <td>13</td>\n",
       "      <td>2019-07-31</td>\n",
       "      <td>Ahmedabad</td>\n",
       "      <td>22-29 year</td>\n",
       "      <td>Female</td>\n",
       "      <td>Rs. 1 lakh or less</td>\n",
       "      <td>Bapunagar</td>\n",
       "      <td>10th Std-Below 12th Std</td>\n",
       "      <td>5 and more</td>\n",
       "      <td>4</td>\n",
       "      <td>Daily worker</td>\n",
       "    </tr>\n",
       "    <tr>\n",
       "      <th>13</th>\n",
       "      <td>14</td>\n",
       "      <td>2019-07-31</td>\n",
       "      <td>Ahmedabad</td>\n",
       "      <td>22-29 year</td>\n",
       "      <td>Female</td>\n",
       "      <td>Rs. 1 lakh or less</td>\n",
       "      <td>Danilimda</td>\n",
       "      <td>Below 5th Std</td>\n",
       "      <td>5 and more</td>\n",
       "      <td>4</td>\n",
       "      <td>House wife</td>\n",
       "    </tr>\n",
       "    <tr>\n",
       "      <th>14</th>\n",
       "      <td>15</td>\n",
       "      <td>2019-07-31</td>\n",
       "      <td>Ahmedabad</td>\n",
       "      <td>22-29 year</td>\n",
       "      <td>Female</td>\n",
       "      <td>Rs. 1 lakh or less</td>\n",
       "      <td>Dariyapur</td>\n",
       "      <td>10th Std-Below 12th Std</td>\n",
       "      <td>3 or 4</td>\n",
       "      <td>1</td>\n",
       "      <td>House wife</td>\n",
       "    </tr>\n",
       "    <tr>\n",
       "      <th>15</th>\n",
       "      <td>16</td>\n",
       "      <td>2019-07-31</td>\n",
       "      <td>Ahmedabad</td>\n",
       "      <td>22-29 year</td>\n",
       "      <td>Female</td>\n",
       "      <td>Rs. 1 lakh or less</td>\n",
       "      <td>Dariyapur</td>\n",
       "      <td>10th Std-Below 12th Std</td>\n",
       "      <td>5 and more</td>\n",
       "      <td>1</td>\n",
       "      <td>House wife</td>\n",
       "    </tr>\n",
       "    <tr>\n",
       "      <th>16</th>\n",
       "      <td>17</td>\n",
       "      <td>2019-07-31</td>\n",
       "      <td>Ahmedabad</td>\n",
       "      <td>22-29 year</td>\n",
       "      <td>Female</td>\n",
       "      <td>Rs. 1 lakh or less</td>\n",
       "      <td>Dariyapur</td>\n",
       "      <td>5th Std-Below 10th Std</td>\n",
       "      <td>3 or 4</td>\n",
       "      <td>1</td>\n",
       "      <td>House wife</td>\n",
       "    </tr>\n",
       "    <tr>\n",
       "      <th>17</th>\n",
       "      <td>18</td>\n",
       "      <td>2019-07-31</td>\n",
       "      <td>Ahmedabad</td>\n",
       "      <td>22-29 year</td>\n",
       "      <td>Female</td>\n",
       "      <td>Rs. 1 lakh or less</td>\n",
       "      <td>Jamalpur-Khadia</td>\n",
       "      <td>10th Std-Below 12th Std</td>\n",
       "      <td>5 and more</td>\n",
       "      <td>1</td>\n",
       "      <td>House wife</td>\n",
       "    </tr>\n",
       "    <tr>\n",
       "      <th>18</th>\n",
       "      <td>19</td>\n",
       "      <td>2019-07-31</td>\n",
       "      <td>Ahmedabad</td>\n",
       "      <td>22-29 year</td>\n",
       "      <td>Female</td>\n",
       "      <td>Rs. 1 lakh or less</td>\n",
       "      <td>Jamalpur-Khadia</td>\n",
       "      <td>12th Std</td>\n",
       "      <td>5 and more</td>\n",
       "      <td>2</td>\n",
       "      <td>House wife</td>\n",
       "    </tr>\n",
       "    <tr>\n",
       "      <th>19</th>\n",
       "      <td>20</td>\n",
       "      <td>2019-07-31</td>\n",
       "      <td>Ahmedabad</td>\n",
       "      <td>22-29 year</td>\n",
       "      <td>Female</td>\n",
       "      <td>Rs. 1 lakh or less</td>\n",
       "      <td>Jamalpur-Khadia</td>\n",
       "      <td>5th Std-Below 10th Std</td>\n",
       "      <td>5 and more</td>\n",
       "      <td>2</td>\n",
       "      <td>Daily worker</td>\n",
       "    </tr>\n",
       "    <tr>\n",
       "      <th>20</th>\n",
       "      <td>21</td>\n",
       "      <td>2019-07-31</td>\n",
       "      <td>Ahmedabad</td>\n",
       "      <td>22-29 year</td>\n",
       "      <td>Female</td>\n",
       "      <td>Rs. 1 lakh or less</td>\n",
       "      <td>Jamalpur-Khadia</td>\n",
       "      <td>Illiterate</td>\n",
       "      <td>3 or 4</td>\n",
       "      <td>1</td>\n",
       "      <td>House wife</td>\n",
       "    </tr>\n",
       "    <tr>\n",
       "      <th>21</th>\n",
       "      <td>22</td>\n",
       "      <td>2019-07-31</td>\n",
       "      <td>Ahmedabad</td>\n",
       "      <td>22-29 year</td>\n",
       "      <td>Female</td>\n",
       "      <td>Rs. 1 lakh or less</td>\n",
       "      <td>Maninagar</td>\n",
       "      <td>10th Std-Below 12th Std</td>\n",
       "      <td>3 or 4</td>\n",
       "      <td>1</td>\n",
       "      <td>House wife</td>\n",
       "    </tr>\n",
       "    <tr>\n",
       "      <th>22</th>\n",
       "      <td>23</td>\n",
       "      <td>2019-07-31</td>\n",
       "      <td>Ahmedabad</td>\n",
       "      <td>22-29 year</td>\n",
       "      <td>Female</td>\n",
       "      <td>Rs. 1 lakh or less</td>\n",
       "      <td>Maninagar</td>\n",
       "      <td>10th Std-Below 12th Std</td>\n",
       "      <td>3 or 4</td>\n",
       "      <td>1</td>\n",
       "      <td>House wife</td>\n",
       "    </tr>\n",
       "    <tr>\n",
       "      <th>23</th>\n",
       "      <td>24</td>\n",
       "      <td>2019-07-31</td>\n",
       "      <td>Ahmedabad</td>\n",
       "      <td>22-29 year</td>\n",
       "      <td>Female</td>\n",
       "      <td>Rs. 1 lakh or less</td>\n",
       "      <td>Maninagar</td>\n",
       "      <td>10th Std-Below 12th Std</td>\n",
       "      <td>3 or 4</td>\n",
       "      <td>1</td>\n",
       "      <td>House wife</td>\n",
       "    </tr>\n",
       "    <tr>\n",
       "      <th>24</th>\n",
       "      <td>25</td>\n",
       "      <td>2019-07-31</td>\n",
       "      <td>Ahmedabad</td>\n",
       "      <td>22-29 year</td>\n",
       "      <td>Female</td>\n",
       "      <td>Rs. 1 lakh or less</td>\n",
       "      <td>Maninagar</td>\n",
       "      <td>5th Std-Below 10th Std</td>\n",
       "      <td>5 and more</td>\n",
       "      <td>1</td>\n",
       "      <td>Daily worker</td>\n",
       "    </tr>\n",
       "    <tr>\n",
       "      <th>25</th>\n",
       "      <td>26</td>\n",
       "      <td>2019-07-31</td>\n",
       "      <td>Ahmedabad</td>\n",
       "      <td>22-29 year</td>\n",
       "      <td>Female</td>\n",
       "      <td>Rs. 1 lakh or less</td>\n",
       "      <td>Maninagar</td>\n",
       "      <td>Illiterate</td>\n",
       "      <td>5 and more</td>\n",
       "      <td>1</td>\n",
       "      <td>House wife</td>\n",
       "    </tr>\n",
       "    <tr>\n",
       "      <th>26</th>\n",
       "      <td>27</td>\n",
       "      <td>2019-07-31</td>\n",
       "      <td>Ahmedabad</td>\n",
       "      <td>22-29 year</td>\n",
       "      <td>Female</td>\n",
       "      <td>Rs. 1 lakh or less</td>\n",
       "      <td>Maninagar</td>\n",
       "      <td>Illiterate</td>\n",
       "      <td>5 and more</td>\n",
       "      <td>2</td>\n",
       "      <td>House wife</td>\n",
       "    </tr>\n",
       "    <tr>\n",
       "      <th>27</th>\n",
       "      <td>28</td>\n",
       "      <td>2019-07-31</td>\n",
       "      <td>Ahmedabad</td>\n",
       "      <td>22-29 year</td>\n",
       "      <td>Female</td>\n",
       "      <td>Rs. 1 lakh or less</td>\n",
       "      <td>Naroda</td>\n",
       "      <td>10th Std-Below 12th Std</td>\n",
       "      <td>3 or 4</td>\n",
       "      <td>1</td>\n",
       "      <td>House wife</td>\n",
       "    </tr>\n",
       "    <tr>\n",
       "      <th>28</th>\n",
       "      <td>29</td>\n",
       "      <td>2019-07-31</td>\n",
       "      <td>Ahmedabad</td>\n",
       "      <td>22-29 year</td>\n",
       "      <td>Female</td>\n",
       "      <td>Rs. 1 lakh or less</td>\n",
       "      <td>Naroda</td>\n",
       "      <td>Graduate</td>\n",
       "      <td>3 or 4</td>\n",
       "      <td>1</td>\n",
       "      <td>Unemployed</td>\n",
       "    </tr>\n",
       "    <tr>\n",
       "      <th>29</th>\n",
       "      <td>30</td>\n",
       "      <td>2019-07-31</td>\n",
       "      <td>Ahmedabad</td>\n",
       "      <td>22-29 year</td>\n",
       "      <td>Female</td>\n",
       "      <td>Rs. 1 lakh or less</td>\n",
       "      <td>Naroda</td>\n",
       "      <td>Graduate</td>\n",
       "      <td>5 and more</td>\n",
       "      <td>2</td>\n",
       "      <td>House wife</td>\n",
       "    </tr>\n",
       "    <tr>\n",
       "      <th>...</th>\n",
       "      <td>...</td>\n",
       "      <td>...</td>\n",
       "      <td>...</td>\n",
       "      <td>...</td>\n",
       "      <td>...</td>\n",
       "      <td>...</td>\n",
       "      <td>...</td>\n",
       "      <td>...</td>\n",
       "      <td>...</td>\n",
       "      <td>...</td>\n",
       "      <td>...</td>\n",
       "    </tr>\n",
       "    <tr>\n",
       "      <th>50979</th>\n",
       "      <td>50980</td>\n",
       "      <td>2019-11-01</td>\n",
       "      <td>Trivandrum</td>\n",
       "      <td>40-59 year</td>\n",
       "      <td>Male</td>\n",
       "      <td>Rs. 1 lakh or less</td>\n",
       "      <td>Kazhakkoottam</td>\n",
       "      <td>12th Std</td>\n",
       "      <td>5 and more</td>\n",
       "      <td>1</td>\n",
       "      <td>Employed</td>\n",
       "    </tr>\n",
       "    <tr>\n",
       "      <th>50980</th>\n",
       "      <td>50981</td>\n",
       "      <td>2019-11-01</td>\n",
       "      <td>Trivandrum</td>\n",
       "      <td>40-59 year</td>\n",
       "      <td>Male</td>\n",
       "      <td>Rs. 1 lakh or less</td>\n",
       "      <td>Kazhakkoottam</td>\n",
       "      <td>5th Std-Below 10th Std</td>\n",
       "      <td>3 or 4</td>\n",
       "      <td>1</td>\n",
       "      <td>Self Employed/ Business</td>\n",
       "    </tr>\n",
       "    <tr>\n",
       "      <th>50981</th>\n",
       "      <td>50982</td>\n",
       "      <td>2019-11-01</td>\n",
       "      <td>Trivandrum</td>\n",
       "      <td>40-59 year</td>\n",
       "      <td>Male</td>\n",
       "      <td>Rs. 1 lakh or less</td>\n",
       "      <td>Kazhakkoottam</td>\n",
       "      <td>Below 5th Std</td>\n",
       "      <td>3 or 4</td>\n",
       "      <td>2</td>\n",
       "      <td>Daily worker</td>\n",
       "    </tr>\n",
       "    <tr>\n",
       "      <th>50982</th>\n",
       "      <td>50983</td>\n",
       "      <td>2019-11-01</td>\n",
       "      <td>Trivandrum</td>\n",
       "      <td>40-59 year</td>\n",
       "      <td>Male</td>\n",
       "      <td>Rs. 1 lakh or less</td>\n",
       "      <td>Nemom</td>\n",
       "      <td>Graduate</td>\n",
       "      <td>5 and more</td>\n",
       "      <td>1</td>\n",
       "      <td>Self Employed/ Business</td>\n",
       "    </tr>\n",
       "    <tr>\n",
       "      <th>50983</th>\n",
       "      <td>50984</td>\n",
       "      <td>2019-11-01</td>\n",
       "      <td>Trivandrum</td>\n",
       "      <td>40-59 year</td>\n",
       "      <td>Male</td>\n",
       "      <td>Rs. 1 lakh or less</td>\n",
       "      <td>Thiruvananthapuram</td>\n",
       "      <td>10th Std-Below 12th Std</td>\n",
       "      <td>3 or 4</td>\n",
       "      <td>1</td>\n",
       "      <td>Daily worker</td>\n",
       "    </tr>\n",
       "    <tr>\n",
       "      <th>50984</th>\n",
       "      <td>50985</td>\n",
       "      <td>2019-11-01</td>\n",
       "      <td>Trivandrum</td>\n",
       "      <td>40-59 year</td>\n",
       "      <td>Male</td>\n",
       "      <td>Rs. 1 lakh or less</td>\n",
       "      <td>Thiruvananthapuram</td>\n",
       "      <td>10th Std-Below 12th Std</td>\n",
       "      <td>3 or 4</td>\n",
       "      <td>2</td>\n",
       "      <td>Daily worker</td>\n",
       "    </tr>\n",
       "    <tr>\n",
       "      <th>50985</th>\n",
       "      <td>50986</td>\n",
       "      <td>2019-11-01</td>\n",
       "      <td>Trivandrum</td>\n",
       "      <td>40-59 year</td>\n",
       "      <td>Male</td>\n",
       "      <td>Rs. 1 lakh or less</td>\n",
       "      <td>Thiruvananthapuram</td>\n",
       "      <td>5th Std-Below 10th Std</td>\n",
       "      <td>3 or 4</td>\n",
       "      <td>2</td>\n",
       "      <td>Daily worker</td>\n",
       "    </tr>\n",
       "    <tr>\n",
       "      <th>50986</th>\n",
       "      <td>50987</td>\n",
       "      <td>2019-11-01</td>\n",
       "      <td>Trivandrum</td>\n",
       "      <td>40-59 year</td>\n",
       "      <td>Male</td>\n",
       "      <td>Rs. 1 lakh or less</td>\n",
       "      <td>Thiruvananthapuram</td>\n",
       "      <td>5th Std-Below 10th Std</td>\n",
       "      <td>5 and more</td>\n",
       "      <td>2</td>\n",
       "      <td>Self Employed/ Business</td>\n",
       "    </tr>\n",
       "    <tr>\n",
       "      <th>50987</th>\n",
       "      <td>50988</td>\n",
       "      <td>2019-11-01</td>\n",
       "      <td>Trivandrum</td>\n",
       "      <td>40-59 year</td>\n",
       "      <td>Male</td>\n",
       "      <td>Rs. 1 lakh or less</td>\n",
       "      <td>Vattiyoorkavu</td>\n",
       "      <td>10th Std-Below 12th Std</td>\n",
       "      <td>3 or 4</td>\n",
       "      <td>1</td>\n",
       "      <td>Daily worker</td>\n",
       "    </tr>\n",
       "    <tr>\n",
       "      <th>50988</th>\n",
       "      <td>50989</td>\n",
       "      <td>2019-11-01</td>\n",
       "      <td>Trivandrum</td>\n",
       "      <td>40-59 year</td>\n",
       "      <td>Male</td>\n",
       "      <td>Rs. 1 to less than 3 lakh</td>\n",
       "      <td>Kazhakkoottam</td>\n",
       "      <td>12th Std</td>\n",
       "      <td>3 or 4</td>\n",
       "      <td>1</td>\n",
       "      <td>Self Employed/ Business</td>\n",
       "    </tr>\n",
       "    <tr>\n",
       "      <th>50989</th>\n",
       "      <td>50990</td>\n",
       "      <td>2019-11-01</td>\n",
       "      <td>Trivandrum</td>\n",
       "      <td>40-59 year</td>\n",
       "      <td>Male</td>\n",
       "      <td>Rs. 1 to less than 3 lakh</td>\n",
       "      <td>Kazhakkoottam</td>\n",
       "      <td>12th Std</td>\n",
       "      <td>3 or 4</td>\n",
       "      <td>2</td>\n",
       "      <td>Daily worker</td>\n",
       "    </tr>\n",
       "    <tr>\n",
       "      <th>50990</th>\n",
       "      <td>50991</td>\n",
       "      <td>2019-11-01</td>\n",
       "      <td>Trivandrum</td>\n",
       "      <td>40-59 year</td>\n",
       "      <td>Male</td>\n",
       "      <td>Rs. 1 to less than 3 lakh</td>\n",
       "      <td>Nemom</td>\n",
       "      <td>10th Std-Below 12th Std</td>\n",
       "      <td>5 and more</td>\n",
       "      <td>4</td>\n",
       "      <td>Daily worker</td>\n",
       "    </tr>\n",
       "    <tr>\n",
       "      <th>50991</th>\n",
       "      <td>50992</td>\n",
       "      <td>2019-11-01</td>\n",
       "      <td>Trivandrum</td>\n",
       "      <td>40-59 year</td>\n",
       "      <td>Male</td>\n",
       "      <td>Rs. 1 to less than 3 lakh</td>\n",
       "      <td>Thiruvananthapuram</td>\n",
       "      <td>5th Std-Below 10th Std</td>\n",
       "      <td>3 or 4</td>\n",
       "      <td>1</td>\n",
       "      <td>Daily worker</td>\n",
       "    </tr>\n",
       "    <tr>\n",
       "      <th>50992</th>\n",
       "      <td>50993</td>\n",
       "      <td>2019-11-01</td>\n",
       "      <td>Trivandrum</td>\n",
       "      <td>60  &amp; above year</td>\n",
       "      <td>Female</td>\n",
       "      <td>Rs. 1 lakh or less</td>\n",
       "      <td>Kazhakkoottam</td>\n",
       "      <td>Below 5th Std</td>\n",
       "      <td>1 to 2</td>\n",
       "      <td>1</td>\n",
       "      <td>House wife</td>\n",
       "    </tr>\n",
       "    <tr>\n",
       "      <th>50993</th>\n",
       "      <td>50994</td>\n",
       "      <td>2019-11-01</td>\n",
       "      <td>Trivandrum</td>\n",
       "      <td>60  &amp; above year</td>\n",
       "      <td>Female</td>\n",
       "      <td>Rs. 1 lakh or less</td>\n",
       "      <td>Kazhakkoottam</td>\n",
       "      <td>Below 5th Std</td>\n",
       "      <td>3 or 4</td>\n",
       "      <td>2</td>\n",
       "      <td>House wife</td>\n",
       "    </tr>\n",
       "    <tr>\n",
       "      <th>50994</th>\n",
       "      <td>50995</td>\n",
       "      <td>2019-11-01</td>\n",
       "      <td>Trivandrum</td>\n",
       "      <td>60  &amp; above year</td>\n",
       "      <td>Female</td>\n",
       "      <td>Rs. 1 lakh or less</td>\n",
       "      <td>Kazhakkoottam</td>\n",
       "      <td>Below 5th Std</td>\n",
       "      <td>5 and more</td>\n",
       "      <td>1</td>\n",
       "      <td>House wife</td>\n",
       "    </tr>\n",
       "    <tr>\n",
       "      <th>50995</th>\n",
       "      <td>50996</td>\n",
       "      <td>2019-11-01</td>\n",
       "      <td>Trivandrum</td>\n",
       "      <td>60  &amp; above year</td>\n",
       "      <td>Female</td>\n",
       "      <td>Rs. 1 lakh or less</td>\n",
       "      <td>Nemom</td>\n",
       "      <td>10th Std-Below 12th Std</td>\n",
       "      <td>1 to 2</td>\n",
       "      <td>1</td>\n",
       "      <td>House wife</td>\n",
       "    </tr>\n",
       "    <tr>\n",
       "      <th>50996</th>\n",
       "      <td>50997</td>\n",
       "      <td>2019-11-01</td>\n",
       "      <td>Trivandrum</td>\n",
       "      <td>60  &amp; above year</td>\n",
       "      <td>Female</td>\n",
       "      <td>Rs. 1 lakh or less</td>\n",
       "      <td>Nemom</td>\n",
       "      <td>5th Std-Below 10th Std</td>\n",
       "      <td>5 and more</td>\n",
       "      <td>1</td>\n",
       "      <td>House wife</td>\n",
       "    </tr>\n",
       "    <tr>\n",
       "      <th>50997</th>\n",
       "      <td>50998</td>\n",
       "      <td>2019-11-01</td>\n",
       "      <td>Trivandrum</td>\n",
       "      <td>60  &amp; above year</td>\n",
       "      <td>Female</td>\n",
       "      <td>Rs. 1 lakh or less</td>\n",
       "      <td>Thiruvananthapuram</td>\n",
       "      <td>5th Std-Below 10th Std</td>\n",
       "      <td>1 to 2</td>\n",
       "      <td>1</td>\n",
       "      <td>House wife</td>\n",
       "    </tr>\n",
       "    <tr>\n",
       "      <th>50998</th>\n",
       "      <td>50999</td>\n",
       "      <td>2019-11-01</td>\n",
       "      <td>Trivandrum</td>\n",
       "      <td>60  &amp; above year</td>\n",
       "      <td>Female</td>\n",
       "      <td>Rs. 1 lakh or less</td>\n",
       "      <td>Thiruvananthapuram</td>\n",
       "      <td>5th Std-Below 10th Std</td>\n",
       "      <td>1 to 2</td>\n",
       "      <td>1</td>\n",
       "      <td>Retired/Pensioners</td>\n",
       "    </tr>\n",
       "    <tr>\n",
       "      <th>50999</th>\n",
       "      <td>51000</td>\n",
       "      <td>2019-11-01</td>\n",
       "      <td>Trivandrum</td>\n",
       "      <td>60  &amp; above year</td>\n",
       "      <td>Female</td>\n",
       "      <td>Rs. 1 lakh or less</td>\n",
       "      <td>Vattiyoorkavu</td>\n",
       "      <td>10th Std-Below 12th Std</td>\n",
       "      <td>3 or 4</td>\n",
       "      <td>1</td>\n",
       "      <td>House wife</td>\n",
       "    </tr>\n",
       "    <tr>\n",
       "      <th>51000</th>\n",
       "      <td>51001</td>\n",
       "      <td>2019-11-01</td>\n",
       "      <td>Trivandrum</td>\n",
       "      <td>60  &amp; above year</td>\n",
       "      <td>Female</td>\n",
       "      <td>Rs. 1 to less than 3 lakh</td>\n",
       "      <td>Nemom</td>\n",
       "      <td>10th Std-Below 12th Std</td>\n",
       "      <td>5 and more</td>\n",
       "      <td>2</td>\n",
       "      <td>House wife</td>\n",
       "    </tr>\n",
       "    <tr>\n",
       "      <th>51001</th>\n",
       "      <td>51002</td>\n",
       "      <td>2019-11-01</td>\n",
       "      <td>Trivandrum</td>\n",
       "      <td>60  &amp; above year</td>\n",
       "      <td>Female</td>\n",
       "      <td>Rs. 1 to less than 3 lakh</td>\n",
       "      <td>Nemom</td>\n",
       "      <td>10th Std-Below 12th Std</td>\n",
       "      <td>5 and more</td>\n",
       "      <td>2</td>\n",
       "      <td>Retired/Pensioners</td>\n",
       "    </tr>\n",
       "    <tr>\n",
       "      <th>51002</th>\n",
       "      <td>51003</td>\n",
       "      <td>2019-11-01</td>\n",
       "      <td>Trivandrum</td>\n",
       "      <td>60  &amp; above year</td>\n",
       "      <td>Male</td>\n",
       "      <td>Rs. 1 lakh or less</td>\n",
       "      <td>Kazhakkoottam</td>\n",
       "      <td>5th Std-Below 10th Std</td>\n",
       "      <td>5 and more</td>\n",
       "      <td>3</td>\n",
       "      <td>Daily worker</td>\n",
       "    </tr>\n",
       "    <tr>\n",
       "      <th>51003</th>\n",
       "      <td>51004</td>\n",
       "      <td>2019-11-01</td>\n",
       "      <td>Trivandrum</td>\n",
       "      <td>60  &amp; above year</td>\n",
       "      <td>Male</td>\n",
       "      <td>Rs. 1 lakh or less</td>\n",
       "      <td>Nemom</td>\n",
       "      <td>10th Std-Below 12th Std</td>\n",
       "      <td>1 to 2</td>\n",
       "      <td>1</td>\n",
       "      <td>Retired/Pensioners</td>\n",
       "    </tr>\n",
       "    <tr>\n",
       "      <th>51004</th>\n",
       "      <td>51005</td>\n",
       "      <td>2019-11-01</td>\n",
       "      <td>Trivandrum</td>\n",
       "      <td>60  &amp; above year</td>\n",
       "      <td>Male</td>\n",
       "      <td>Rs. 1 lakh or less</td>\n",
       "      <td>Nemom</td>\n",
       "      <td>Below 5th Std</td>\n",
       "      <td>5 and more</td>\n",
       "      <td>1</td>\n",
       "      <td>Daily worker</td>\n",
       "    </tr>\n",
       "    <tr>\n",
       "      <th>51005</th>\n",
       "      <td>51006</td>\n",
       "      <td>2019-11-01</td>\n",
       "      <td>Trivandrum</td>\n",
       "      <td>60  &amp; above year</td>\n",
       "      <td>Male</td>\n",
       "      <td>Rs. 1 lakh or less</td>\n",
       "      <td>Thiruvananthapuram</td>\n",
       "      <td>5th Std-Below 10th Std</td>\n",
       "      <td>5 and more</td>\n",
       "      <td>1</td>\n",
       "      <td>Self Employed/ Business</td>\n",
       "    </tr>\n",
       "    <tr>\n",
       "      <th>51006</th>\n",
       "      <td>51007</td>\n",
       "      <td>2019-11-01</td>\n",
       "      <td>Trivandrum</td>\n",
       "      <td>60  &amp; above year</td>\n",
       "      <td>Male</td>\n",
       "      <td>Rs. 1 to less than 3 lakh</td>\n",
       "      <td>Nemom</td>\n",
       "      <td>10th Std-Below 12th Std</td>\n",
       "      <td>3 or 4</td>\n",
       "      <td>2</td>\n",
       "      <td>Retired/Pensioners</td>\n",
       "    </tr>\n",
       "    <tr>\n",
       "      <th>51007</th>\n",
       "      <td>51008</td>\n",
       "      <td>2019-11-01</td>\n",
       "      <td>Trivandrum</td>\n",
       "      <td>60  &amp; above year</td>\n",
       "      <td>Male</td>\n",
       "      <td>Rs. 1 to less than 3 lakh</td>\n",
       "      <td>Vattiyoorkavu</td>\n",
       "      <td>12th Std</td>\n",
       "      <td>3 or 4</td>\n",
       "      <td>1</td>\n",
       "      <td>Retired/Pensioners</td>\n",
       "    </tr>\n",
       "    <tr>\n",
       "      <th>51008</th>\n",
       "      <td>51009</td>\n",
       "      <td>2019-11-01</td>\n",
       "      <td>Trivandrum</td>\n",
       "      <td>60  &amp; above year</td>\n",
       "      <td>Male</td>\n",
       "      <td>Rs. 1 to less than 3 lakh</td>\n",
       "      <td>Vattiyoorkavu</td>\n",
       "      <td>12th Std</td>\n",
       "      <td>3 or 4</td>\n",
       "      <td>2</td>\n",
       "      <td>Retired/Pensioners</td>\n",
       "    </tr>\n",
       "  </tbody>\n",
       "</table>\n",
       "<p>51009 rows × 11 columns</p>\n",
       "</div>"
      ],
      "text/plain": [
       "       Serial No.     Period        City               Age  Gender  \\\n",
       "0               1 2019-07-31   Ahmedabad        22-29 year  Female   \n",
       "1               2 2019-07-31   Ahmedabad        22-29 year  Female   \n",
       "2               3 2019-07-31   Ahmedabad        22-29 year  Female   \n",
       "3               4 2019-07-31   Ahmedabad        22-29 year  Female   \n",
       "4               5 2019-07-31   Ahmedabad        22-29 year  Female   \n",
       "5               6 2019-07-31   Ahmedabad        22-29 year  Female   \n",
       "6               7 2019-07-31   Ahmedabad        22-29 year  Female   \n",
       "7               8 2019-07-31   Ahmedabad        22-29 year  Female   \n",
       "8               9 2019-07-31   Ahmedabad        22-29 year  Female   \n",
       "9              10 2019-07-31   Ahmedabad        22-29 year  Female   \n",
       "10             11 2019-07-31   Ahmedabad        22-29 year  Female   \n",
       "11             12 2019-07-31   Ahmedabad        22-29 year  Female   \n",
       "12             13 2019-07-31   Ahmedabad        22-29 year  Female   \n",
       "13             14 2019-07-31   Ahmedabad        22-29 year  Female   \n",
       "14             15 2019-07-31   Ahmedabad        22-29 year  Female   \n",
       "15             16 2019-07-31   Ahmedabad        22-29 year  Female   \n",
       "16             17 2019-07-31   Ahmedabad        22-29 year  Female   \n",
       "17             18 2019-07-31   Ahmedabad        22-29 year  Female   \n",
       "18             19 2019-07-31   Ahmedabad        22-29 year  Female   \n",
       "19             20 2019-07-31   Ahmedabad        22-29 year  Female   \n",
       "20             21 2019-07-31   Ahmedabad        22-29 year  Female   \n",
       "21             22 2019-07-31   Ahmedabad        22-29 year  Female   \n",
       "22             23 2019-07-31   Ahmedabad        22-29 year  Female   \n",
       "23             24 2019-07-31   Ahmedabad        22-29 year  Female   \n",
       "24             25 2019-07-31   Ahmedabad        22-29 year  Female   \n",
       "25             26 2019-07-31   Ahmedabad        22-29 year  Female   \n",
       "26             27 2019-07-31   Ahmedabad        22-29 year  Female   \n",
       "27             28 2019-07-31   Ahmedabad        22-29 year  Female   \n",
       "28             29 2019-07-31   Ahmedabad        22-29 year  Female   \n",
       "29             30 2019-07-31   Ahmedabad        22-29 year  Female   \n",
       "...           ...        ...         ...               ...     ...   \n",
       "50979       50980 2019-11-01  Trivandrum        40-59 year    Male   \n",
       "50980       50981 2019-11-01  Trivandrum        40-59 year    Male   \n",
       "50981       50982 2019-11-01  Trivandrum        40-59 year    Male   \n",
       "50982       50983 2019-11-01  Trivandrum        40-59 year    Male   \n",
       "50983       50984 2019-11-01  Trivandrum        40-59 year    Male   \n",
       "50984       50985 2019-11-01  Trivandrum        40-59 year    Male   \n",
       "50985       50986 2019-11-01  Trivandrum        40-59 year    Male   \n",
       "50986       50987 2019-11-01  Trivandrum        40-59 year    Male   \n",
       "50987       50988 2019-11-01  Trivandrum        40-59 year    Male   \n",
       "50988       50989 2019-11-01  Trivandrum        40-59 year    Male   \n",
       "50989       50990 2019-11-01  Trivandrum        40-59 year    Male   \n",
       "50990       50991 2019-11-01  Trivandrum        40-59 year    Male   \n",
       "50991       50992 2019-11-01  Trivandrum        40-59 year    Male   \n",
       "50992       50993 2019-11-01  Trivandrum  60  & above year  Female   \n",
       "50993       50994 2019-11-01  Trivandrum  60  & above year  Female   \n",
       "50994       50995 2019-11-01  Trivandrum  60  & above year  Female   \n",
       "50995       50996 2019-11-01  Trivandrum  60  & above year  Female   \n",
       "50996       50997 2019-11-01  Trivandrum  60  & above year  Female   \n",
       "50997       50998 2019-11-01  Trivandrum  60  & above year  Female   \n",
       "50998       50999 2019-11-01  Trivandrum  60  & above year  Female   \n",
       "50999       51000 2019-11-01  Trivandrum  60  & above year  Female   \n",
       "51000       51001 2019-11-01  Trivandrum  60  & above year  Female   \n",
       "51001       51002 2019-11-01  Trivandrum  60  & above year  Female   \n",
       "51002       51003 2019-11-01  Trivandrum  60  & above year    Male   \n",
       "51003       51004 2019-11-01  Trivandrum  60  & above year    Male   \n",
       "51004       51005 2019-11-01  Trivandrum  60  & above year    Male   \n",
       "51005       51006 2019-11-01  Trivandrum  60  & above year    Male   \n",
       "51006       51007 2019-11-01  Trivandrum  60  & above year    Male   \n",
       "51007       51008 2019-11-01  Trivandrum  60  & above year    Male   \n",
       "51008       51009 2019-11-01  Trivandrum  60  & above year    Male   \n",
       "\n",
       "                   Annual Income Assembly Constituency Name  \\\n",
       "0             Rs. 1 lakh or less                 Amaraiwadi   \n",
       "1             Rs. 1 lakh or less                 Amaraiwadi   \n",
       "2             Rs. 1 lakh or less                 Amaraiwadi   \n",
       "3             Rs. 1 lakh or less                 Amaraiwadi   \n",
       "4             Rs. 1 lakh or less                 Amaraiwadi   \n",
       "5             Rs. 1 lakh or less                 Amaraiwadi   \n",
       "6             Rs. 1 lakh or less                 Amaraiwadi   \n",
       "7             Rs. 1 lakh or less                     Asarwa   \n",
       "8             Rs. 1 lakh or less                     Asarwa   \n",
       "9             Rs. 1 lakh or less                     Asarwa   \n",
       "10            Rs. 1 lakh or less                     Asarwa   \n",
       "11            Rs. 1 lakh or less                     Asarwa   \n",
       "12            Rs. 1 lakh or less                  Bapunagar   \n",
       "13            Rs. 1 lakh or less                  Danilimda   \n",
       "14            Rs. 1 lakh or less                  Dariyapur   \n",
       "15            Rs. 1 lakh or less                  Dariyapur   \n",
       "16            Rs. 1 lakh or less                  Dariyapur   \n",
       "17            Rs. 1 lakh or less            Jamalpur-Khadia   \n",
       "18            Rs. 1 lakh or less            Jamalpur-Khadia   \n",
       "19            Rs. 1 lakh or less            Jamalpur-Khadia   \n",
       "20            Rs. 1 lakh or less            Jamalpur-Khadia   \n",
       "21            Rs. 1 lakh or less                  Maninagar   \n",
       "22            Rs. 1 lakh or less                  Maninagar   \n",
       "23            Rs. 1 lakh or less                  Maninagar   \n",
       "24            Rs. 1 lakh or less                  Maninagar   \n",
       "25            Rs. 1 lakh or less                  Maninagar   \n",
       "26            Rs. 1 lakh or less                  Maninagar   \n",
       "27            Rs. 1 lakh or less                     Naroda   \n",
       "28            Rs. 1 lakh or less                     Naroda   \n",
       "29            Rs. 1 lakh or less                     Naroda   \n",
       "...                          ...                        ...   \n",
       "50979         Rs. 1 lakh or less              Kazhakkoottam   \n",
       "50980         Rs. 1 lakh or less              Kazhakkoottam   \n",
       "50981         Rs. 1 lakh or less              Kazhakkoottam   \n",
       "50982         Rs. 1 lakh or less                      Nemom   \n",
       "50983         Rs. 1 lakh or less         Thiruvananthapuram   \n",
       "50984         Rs. 1 lakh or less         Thiruvananthapuram   \n",
       "50985         Rs. 1 lakh or less         Thiruvananthapuram   \n",
       "50986         Rs. 1 lakh or less         Thiruvananthapuram   \n",
       "50987         Rs. 1 lakh or less              Vattiyoorkavu   \n",
       "50988  Rs. 1 to less than 3 lakh              Kazhakkoottam   \n",
       "50989  Rs. 1 to less than 3 lakh              Kazhakkoottam   \n",
       "50990  Rs. 1 to less than 3 lakh                      Nemom   \n",
       "50991  Rs. 1 to less than 3 lakh         Thiruvananthapuram   \n",
       "50992         Rs. 1 lakh or less              Kazhakkoottam   \n",
       "50993         Rs. 1 lakh or less              Kazhakkoottam   \n",
       "50994         Rs. 1 lakh or less              Kazhakkoottam   \n",
       "50995         Rs. 1 lakh or less                      Nemom   \n",
       "50996         Rs. 1 lakh or less                      Nemom   \n",
       "50997         Rs. 1 lakh or less         Thiruvananthapuram   \n",
       "50998         Rs. 1 lakh or less         Thiruvananthapuram   \n",
       "50999         Rs. 1 lakh or less              Vattiyoorkavu   \n",
       "51000  Rs. 1 to less than 3 lakh                      Nemom   \n",
       "51001  Rs. 1 to less than 3 lakh                      Nemom   \n",
       "51002         Rs. 1 lakh or less              Kazhakkoottam   \n",
       "51003         Rs. 1 lakh or less                      Nemom   \n",
       "51004         Rs. 1 lakh or less                      Nemom   \n",
       "51005         Rs. 1 lakh or less         Thiruvananthapuram   \n",
       "51006  Rs. 1 to less than 3 lakh                      Nemom   \n",
       "51007  Rs. 1 to less than 3 lakh              Vattiyoorkavu   \n",
       "51008  Rs. 1 to less than 3 lakh              Vattiyoorkavu   \n",
       "\n",
       "      Educational Qualification No. of Family Members  \\\n",
       "0                      12th Std            5 and more   \n",
       "1        5th Std-Below 10th Std            5 and more   \n",
       "2                 Below 5th Std                3 or 4   \n",
       "3                      Graduate            5 and more   \n",
       "4                    Illiterate            5 and more   \n",
       "5                    Illiterate            5 and more   \n",
       "6                 Post Graduate            5 and more   \n",
       "7       10th Std-Below 12th Std            5 and more   \n",
       "8                      12th Std            5 and more   \n",
       "9        5th Std-Below 10th Std                3 or 4   \n",
       "10       5th Std-Below 10th Std                3 or 4   \n",
       "11                Below 5th Std            5 and more   \n",
       "12      10th Std-Below 12th Std            5 and more   \n",
       "13                Below 5th Std            5 and more   \n",
       "14      10th Std-Below 12th Std                3 or 4   \n",
       "15      10th Std-Below 12th Std            5 and more   \n",
       "16       5th Std-Below 10th Std                3 or 4   \n",
       "17      10th Std-Below 12th Std            5 and more   \n",
       "18                     12th Std            5 and more   \n",
       "19       5th Std-Below 10th Std            5 and more   \n",
       "20                   Illiterate                3 or 4   \n",
       "21      10th Std-Below 12th Std                3 or 4   \n",
       "22      10th Std-Below 12th Std                3 or 4   \n",
       "23      10th Std-Below 12th Std                3 or 4   \n",
       "24       5th Std-Below 10th Std            5 and more   \n",
       "25                   Illiterate            5 and more   \n",
       "26                   Illiterate            5 and more   \n",
       "27      10th Std-Below 12th Std                3 or 4   \n",
       "28                     Graduate                3 or 4   \n",
       "29                     Graduate            5 and more   \n",
       "...                         ...                   ...   \n",
       "50979                  12th Std            5 and more   \n",
       "50980    5th Std-Below 10th Std                3 or 4   \n",
       "50981             Below 5th Std                3 or 4   \n",
       "50982                  Graduate            5 and more   \n",
       "50983   10th Std-Below 12th Std                3 or 4   \n",
       "50984   10th Std-Below 12th Std                3 or 4   \n",
       "50985    5th Std-Below 10th Std                3 or 4   \n",
       "50986    5th Std-Below 10th Std            5 and more   \n",
       "50987   10th Std-Below 12th Std                3 or 4   \n",
       "50988                  12th Std                3 or 4   \n",
       "50989                  12th Std                3 or 4   \n",
       "50990   10th Std-Below 12th Std            5 and more   \n",
       "50991    5th Std-Below 10th Std                3 or 4   \n",
       "50992             Below 5th Std                1 to 2   \n",
       "50993             Below 5th Std                3 or 4   \n",
       "50994             Below 5th Std            5 and more   \n",
       "50995   10th Std-Below 12th Std                1 to 2   \n",
       "50996    5th Std-Below 10th Std            5 and more   \n",
       "50997    5th Std-Below 10th Std                1 to 2   \n",
       "50998    5th Std-Below 10th Std                1 to 2   \n",
       "50999   10th Std-Below 12th Std                3 or 4   \n",
       "51000   10th Std-Below 12th Std            5 and more   \n",
       "51001   10th Std-Below 12th Std            5 and more   \n",
       "51002    5th Std-Below 10th Std            5 and more   \n",
       "51003   10th Std-Below 12th Std                1 to 2   \n",
       "51004             Below 5th Std            5 and more   \n",
       "51005    5th Std-Below 10th Std            5 and more   \n",
       "51006   10th Std-Below 12th Std                3 or 4   \n",
       "51007                  12th Std                3 or 4   \n",
       "51008                  12th Std                3 or 4   \n",
       "\n",
       "       No. of Earning members in the family Occupation of Respondent  \n",
       "0                                         3               House wife  \n",
       "1                                         2             Daily worker  \n",
       "2                                         1               House wife  \n",
       "3                                         1               House wife  \n",
       "4                                         1               House wife  \n",
       "5                                         2               House wife  \n",
       "6                                         1                 Employed  \n",
       "7                                         1               Unemployed  \n",
       "8                                         3               Unemployed  \n",
       "9                                         1               House wife  \n",
       "10                                        1               House wife  \n",
       "11                                        2               House wife  \n",
       "12                                        4             Daily worker  \n",
       "13                                        4               House wife  \n",
       "14                                        1               House wife  \n",
       "15                                        1               House wife  \n",
       "16                                        1               House wife  \n",
       "17                                        1               House wife  \n",
       "18                                        2               House wife  \n",
       "19                                        2             Daily worker  \n",
       "20                                        1               House wife  \n",
       "21                                        1               House wife  \n",
       "22                                        1               House wife  \n",
       "23                                        1               House wife  \n",
       "24                                        1             Daily worker  \n",
       "25                                        1               House wife  \n",
       "26                                        2               House wife  \n",
       "27                                        1               House wife  \n",
       "28                                        1               Unemployed  \n",
       "29                                        2               House wife  \n",
       "...                                     ...                      ...  \n",
       "50979                                     1                 Employed  \n",
       "50980                                     1  Self Employed/ Business  \n",
       "50981                                     2             Daily worker  \n",
       "50982                                     1  Self Employed/ Business  \n",
       "50983                                     1             Daily worker  \n",
       "50984                                     2             Daily worker  \n",
       "50985                                     2             Daily worker  \n",
       "50986                                     2  Self Employed/ Business  \n",
       "50987                                     1             Daily worker  \n",
       "50988                                     1  Self Employed/ Business  \n",
       "50989                                     2             Daily worker  \n",
       "50990                                     4             Daily worker  \n",
       "50991                                     1             Daily worker  \n",
       "50992                                     1               House wife  \n",
       "50993                                     2               House wife  \n",
       "50994                                     1               House wife  \n",
       "50995                                     1               House wife  \n",
       "50996                                     1               House wife  \n",
       "50997                                     1               House wife  \n",
       "50998                                     1       Retired/Pensioners  \n",
       "50999                                     1               House wife  \n",
       "51000                                     2               House wife  \n",
       "51001                                     2       Retired/Pensioners  \n",
       "51002                                     3             Daily worker  \n",
       "51003                                     1       Retired/Pensioners  \n",
       "51004                                     1             Daily worker  \n",
       "51005                                     1  Self Employed/ Business  \n",
       "51006                                     2       Retired/Pensioners  \n",
       "51007                                     1       Retired/Pensioners  \n",
       "51008                                     2       Retired/Pensioners  \n",
       "\n",
       "[51009 rows x 11 columns]"
      ]
     },
     "execution_count": 3,
     "metadata": {},
     "output_type": "execute_result"
    }
   ],
   "source": [
    "df"
   ]
  },
  {
   "cell_type": "code",
   "execution_count": 4,
   "metadata": {},
   "outputs": [
    {
     "data": {
      "text/plain": [
       "(51009, 11)"
      ]
     },
     "execution_count": 4,
     "metadata": {},
     "output_type": "execute_result"
    }
   ],
   "source": [
    "df.shape"
   ]
  },
  {
   "cell_type": "code",
   "execution_count": 5,
   "metadata": {},
   "outputs": [
    {
     "data": {
      "text/plain": [
       "Index(['Serial No.', 'Period', 'City', 'Age', 'Gender', 'Annual Income',\n",
       "       'Assembly Constituency Name', 'Educational Qualification',\n",
       "       'No. of Family Members', 'No. of Earning members in the family',\n",
       "       'Occupation of Respondent'],\n",
       "      dtype='object')"
      ]
     },
     "execution_count": 5,
     "metadata": {},
     "output_type": "execute_result"
    }
   ],
   "source": [
    "df.columns"
   ]
  },
  {
   "cell_type": "code",
   "execution_count": 6,
   "metadata": {
    "scrolled": false
   },
   "outputs": [
    {
     "name": "stdout",
     "output_type": "stream",
     "text": [
      "Different City:\n",
      " Delhi         8547\n",
      "Mumbai        7836\n",
      "Kolkata       6597\n",
      "Bengaluru     6186\n",
      "Hyderbad      5532\n",
      "Chennai       5091\n",
      "Ahmedabad     3600\n",
      "Lucknow       1800\n",
      "Jaipur        1788\n",
      "Bhopal        1338\n",
      "Patna          900\n",
      "Trivandrum     900\n",
      "Guwahati       894\n",
      "Name: City, dtype: int64 \n",
      "\n",
      "Total no. of city: (13,) \n",
      "\n",
      "Annual Income:\n",
      " Rs. 1 to less than 3 lakh    24999\n",
      "Rs. 1 lakh or less           20289\n",
      "Rs. 3 lakh to 5 lakh          4074\n",
      "Rs. 5 lakh or more            1647\n",
      "Name: Annual Income, dtype: int64 \n",
      "\n",
      "Total Income Group: (4,) \n",
      "\n",
      "Different Age:\n",
      " 40-59 year              16590\n",
      "22-29 year              15450\n",
      "30-39 year              13791\n",
      "60  & above year         3528\n",
      "60  &amp; above year     1650\n",
      "Name: Age, dtype: int64 \n",
      "\n",
      "Total count of age: (5,) \n",
      "\n",
      "Gender:\n",
      " Male      27267\n",
      "Female    23742\n",
      "Name: Gender, dtype: int64 \n",
      "\n",
      "Total: (2,) \n",
      "\n",
      "Different Assembly Name:\n",
      " Amaraiwadi                   357\n",
      "Maninagar                    309\n",
      "Sabarmati                    309\n",
      "Rashbihari - 160             288\n",
      "Beleghata - 164              285\n",
      "Kashipur Belgachhia - 168    285\n",
      "Thakakarbapa nagar           273\n",
      "Ballygunge - 161             270\n",
      "Bangalore South              270\n",
      "Kasba                        270\n",
      "LUCKNOW WEST                 267\n",
      "Jamalpur-Khadia              264\n",
      "Tollyganj                    264\n",
      "LUCKNOW NORTH                261\n",
      "Kashipur-Belgachhia          252\n",
      "LUCKNOW EAST                 249\n",
      "Jubilee Hills - 61           237\n",
      "Joynagar - 165               234\n",
      "Yakutpura - 68               234\n",
      "Bhawanipur - 159             234\n",
      "Anna Nagar - 21              231\n",
      "NARELA                       228\n",
      "Dasarahalli                  228\n",
      "Khardaha                     225\n",
      "Yeshwanthpur                 225\n",
      "Musheerabad - 57             222\n",
      "GOVINDPURA                   222\n",
      "Yelahanka                    222\n",
      "Vidyadhar Nagar              222\n",
      "Entally - 163                222\n",
      "                            ... \n",
      "Malviya Nagar - 171           42\n",
      "MADIPUR                       42\n",
      "GHONDA - 66                   42\n",
      "VISHWAS NAGAR - 59            42\n",
      "Dharavi (SC) - 178            42\n",
      "Kalina  - 175                 42\n",
      "Sanganer - 147                42\n",
      "TIMARPUR - 3                  42\n",
      "Jalukbari LAC                 42\n",
      "Wadala - 180                  39\n",
      "Varsova - 164                 39\n",
      "Ellisbridge - 44              39\n",
      "BALLIMARAN                    39\n",
      "BABARPUR - 67                 39\n",
      "RAJINDER NAGAR - 39           39\n",
      "Worli - 182                   39\n",
      "SHAHDARA - 62                 39\n",
      "OKHLA - 54                    39\n",
      "GOKALPUR - 68                 36\n",
      "KAROL BAGH - 23               36\n",
      "ROHTAS NAGAR - 64             36\n",
      "Magathane - 154               36\n",
      "ADARSH NAGAR                  36\n",
      "Malviya Nagar - 69            33\n",
      "CHHATARPUR                    33\n",
      "KRISHNA NAGAR - 60            33\n",
      "PATEL NAGAR - 24              33\n",
      "Anushakti Nagar - 172         33\n",
      "Vidhyadhar nagar - 121        30\n",
      "SEELAMPUR                      9\n",
      "Name: Assembly Constituency Name, Length: 457, dtype: int64 \n",
      "\n",
      "Total Assembly: (457,) \n",
      "\n",
      "Different Education:\n",
      " 5th Std-Below 10th Std     12828\n",
      "Graduate                   10827\n",
      "10th Std-Below 12th Std    10518\n",
      "12th Std                    7734\n",
      "Illiterate                  3660\n",
      "Below 5th Std               2805\n",
      "Post Graduate               2637\n",
      "Name: Educational Qualification, dtype: int64 \n",
      "\n",
      "Total category type: (7,) \n",
      "\n",
      "Different No. of Family Members:\n",
      " 3 or 4        23907\n",
      "5 and more    22725\n",
      "1 to 2         4377\n",
      "Name: No. of Family Members, dtype: int64 \n",
      "\n",
      "Total category count: (3,) \n",
      "\n",
      "Different Occupation:\n",
      " House wife                 16617\n",
      "Employed                   11943\n",
      "Self Employed/ Business     9492\n",
      "Unemployed                  5349\n",
      "Daily worker                4989\n",
      "Retired/Pensioners          2619\n",
      "Name: Occupation of Respondent, dtype: int64 \n",
      "\n",
      "Total category count: (6,) \n",
      "\n",
      "Different No. of Earning members in the family:\n",
      " 1     29229\n",
      "2     15342\n",
      "3      4626\n",
      "4      1221\n",
      "5       348\n",
      "6       138\n",
      "7        42\n",
      "10       27\n",
      "8        27\n",
      "9         9\n",
      "Name: No. of Earning members in the family, dtype: int64 \n",
      "\n",
      "Total category count: (10,) \n",
      "\n"
     ]
    }
   ],
   "source": [
    "print(\"Different City:\\n\",df['City'].value_counts(),\"\\n\")\n",
    "print(\"Total no. of city:\",df['City'].value_counts().shape,'\\n')\n",
    "\n",
    "print(\"Annual Income:\\n\",df['Annual Income'].value_counts(),\"\\n\")\n",
    "print(\"Total Income Group:\",df['Annual Income'].value_counts().shape,\"\\n\")\n",
    "\n",
    "print(\"Different Age:\\n\",df['Age'].value_counts(),\"\\n\")\n",
    "print(\"Total count of age:\",df['Age'].value_counts().shape,'\\n')\n",
    "\n",
    "print(\"Gender:\\n\",df['Gender'].value_counts(),\"\\n\")\n",
    "print(\"Total:\",df['Gender'].value_counts().shape,'\\n')\n",
    "\n",
    "print(\"Different Assembly Name:\\n\",df['Assembly Constituency Name'].value_counts(),\"\\n\")\n",
    "print(\"Total Assembly:\",df['Assembly Constituency Name'].value_counts().shape,'\\n')\n",
    "\n",
    "print(\"Different Education:\\n\",df['Educational Qualification'].value_counts(),\"\\n\")\n",
    "print(\"Total category type:\",df['Educational Qualification'].value_counts().shape,'\\n')\n",
    "\n",
    "print(\"Different No. of Family Members:\\n\",df['No. of Family Members'].value_counts(),\"\\n\")\n",
    "print(\"Total category count:\",df['No. of Family Members'].value_counts().shape,'\\n')\n",
    "\n",
    "print(\"Different Occupation:\\n\",df['Occupation of Respondent'].value_counts(),\"\\n\")\n",
    "print(\"Total category count:\",df['Occupation of Respondent'].value_counts().shape,'\\n')\n",
    "\n",
    "print(\"Different No. of Earning members in the family:\\n\",df['No. of Earning members in the family'].value_counts(),\"\\n\")\n",
    "print(\"Total category count:\",df['No. of Earning members in the family'].value_counts().shape,'\\n')"
   ]
  },
  {
   "cell_type": "code",
   "execution_count": 7,
   "metadata": {
    "scrolled": true
   },
   "outputs": [],
   "source": [
    "df=df.drop(['Serial No.','Period','Age'],axis=1)"
   ]
  },
  {
   "cell_type": "code",
   "execution_count": 8,
   "metadata": {},
   "outputs": [
    {
     "name": "stdout",
     "output_type": "stream",
     "text": [
      "<class 'pandas.core.frame.DataFrame'>\n",
      "RangeIndex: 51009 entries, 0 to 51008\n",
      "Data columns (total 8 columns):\n",
      "City                                    51009 non-null object\n",
      "Gender                                  51009 non-null object\n",
      "Annual Income                           51009 non-null object\n",
      "Assembly Constituency Name              51009 non-null object\n",
      "Educational Qualification               51009 non-null object\n",
      "No. of Family Members                   51009 non-null object\n",
      "No. of Earning members in the family    51009 non-null int64\n",
      "Occupation of Respondent                51009 non-null object\n",
      "dtypes: int64(1), object(7)\n",
      "memory usage: 3.1+ MB\n"
     ]
    }
   ],
   "source": [
    "df.info()"
   ]
  },
  {
   "cell_type": "code",
   "execution_count": 9,
   "metadata": {
    "scrolled": false
   },
   "outputs": [],
   "source": [
    "#df.isnull().sum()"
   ]
  },
  {
   "cell_type": "code",
   "execution_count": 10,
   "metadata": {
    "scrolled": true
   },
   "outputs": [],
   "source": [
    "#df=df.fillna(method='ffill')\n",
    "#df.isnull().sum()"
   ]
  },
  {
   "cell_type": "code",
   "execution_count": 11,
   "metadata": {
    "scrolled": false
   },
   "outputs": [
    {
     "data": {
      "text/html": [
       "<div>\n",
       "<style scoped>\n",
       "    .dataframe tbody tr th:only-of-type {\n",
       "        vertical-align: middle;\n",
       "    }\n",
       "\n",
       "    .dataframe tbody tr th {\n",
       "        vertical-align: top;\n",
       "    }\n",
       "\n",
       "    .dataframe thead th {\n",
       "        text-align: right;\n",
       "    }\n",
       "</style>\n",
       "<table border=\"1\" class=\"dataframe\">\n",
       "  <thead>\n",
       "    <tr style=\"text-align: right;\">\n",
       "      <th></th>\n",
       "      <th>No. of Earning members in the family</th>\n",
       "    </tr>\n",
       "  </thead>\n",
       "  <tbody>\n",
       "    <tr>\n",
       "      <th>No. of Earning members in the family</th>\n",
       "      <td>1.0</td>\n",
       "    </tr>\n",
       "  </tbody>\n",
       "</table>\n",
       "</div>"
      ],
      "text/plain": [
       "                                      No. of Earning members in the family\n",
       "No. of Earning members in the family                                   1.0"
      ]
     },
     "execution_count": 11,
     "metadata": {},
     "output_type": "execute_result"
    }
   ],
   "source": [
    "df.corr()"
   ]
  },
  {
   "cell_type": "code",
   "execution_count": 12,
   "metadata": {
    "scrolled": false
   },
   "outputs": [
    {
     "data": {
      "text/plain": [
       "City                                    object\n",
       "Gender                                  object\n",
       "Annual Income                           object\n",
       "Assembly Constituency Name              object\n",
       "Educational Qualification               object\n",
       "No. of Family Members                   object\n",
       "No. of Earning members in the family     int64\n",
       "Occupation of Respondent                object\n",
       "dtype: object"
      ]
     },
     "execution_count": 12,
     "metadata": {},
     "output_type": "execute_result"
    }
   ],
   "source": [
    "df.dtypes"
   ]
  },
  {
   "cell_type": "code",
   "execution_count": 13,
   "metadata": {
    "scrolled": false
   },
   "outputs": [],
   "source": [
    "df['Annual Income'] = df['Annual Income'].replace(['Rs. 1 to less than 3 lakh', 'Rs. 1 lakh or less'], '0')"
   ]
  },
  {
   "cell_type": "code",
   "execution_count": 14,
   "metadata": {},
   "outputs": [],
   "source": [
    "df['Annual Income']= df['Annual Income'].replace(['Rs. 3 lakh to 5 lakh', 'Rs. 5 lakh or more'], '1')"
   ]
  },
  {
   "cell_type": "code",
   "execution_count": 15,
   "metadata": {
    "scrolled": false
   },
   "outputs": [
    {
     "name": "stdout",
     "output_type": "stream",
     "text": [
      "Annual Income:\n",
      " 0    45288\n",
      "1     5721\n",
      "Name: Annual Income, dtype: int64 \n",
      "\n",
      "Total Income Group: (2,) \n",
      "\n"
     ]
    }
   ],
   "source": [
    "print(\"Annual Income:\\n\",df['Annual Income'].value_counts(),\"\\n\")\n",
    "print(\"Total Income Group:\",df['Annual Income'].value_counts().shape,\"\\n\")"
   ]
  },
  {
   "cell_type": "code",
   "execution_count": 16,
   "metadata": {},
   "outputs": [
    {
     "data": {
      "text/plain": [
       "Index(['City', 'Gender', 'Annual Income', 'Assembly Constituency Name',\n",
       "       'Educational Qualification', 'No. of Family Members',\n",
       "       'No. of Earning members in the family', 'Occupation of Respondent'],\n",
       "      dtype='object')"
      ]
     },
     "execution_count": 16,
     "metadata": {},
     "output_type": "execute_result"
    }
   ],
   "source": [
    "df.columns"
   ]
  },
  {
   "cell_type": "code",
   "execution_count": null,
   "metadata": {
    "scrolled": true
   },
   "outputs": [],
   "source": []
  },
  {
   "cell_type": "code",
   "execution_count": 17,
   "metadata": {},
   "outputs": [],
   "source": [
    "from sklearn.preprocessing import LabelEncoder\n",
    "\n",
    "le=LabelEncoder()\n",
    "df['Gender']=le.fit_transform(df['Gender'])\n",
    "df['Annual Income']=le.fit_transform(df['Annual Income'])\n",
    "df['City']=le.fit_transform(df['City'])\n",
    "df['Occupation of Respondent']=le.fit_transform(df['Occupation of Respondent'])\n",
    "df['No. of Family Members']=le.fit_transform(df['No. of Family Members'])\n",
    "df['Educational Qualification']=le.fit_transform(df['Educational Qualification'])\n",
    "df['Assembly Constituency Name']=le.fit_transform(df['Assembly Constituency Name'])\n",
    "df['No. of Earning members in the family']=le.fit_transform(df['No. of Earning members in the family'])"
   ]
  },
  {
   "cell_type": "code",
   "execution_count": 18,
   "metadata": {
    "scrolled": false
   },
   "outputs": [
    {
     "data": {
      "text/html": [
       "<div>\n",
       "<style scoped>\n",
       "    .dataframe tbody tr th:only-of-type {\n",
       "        vertical-align: middle;\n",
       "    }\n",
       "\n",
       "    .dataframe tbody tr th {\n",
       "        vertical-align: top;\n",
       "    }\n",
       "\n",
       "    .dataframe thead th {\n",
       "        text-align: right;\n",
       "    }\n",
       "</style>\n",
       "<table border=\"1\" class=\"dataframe\">\n",
       "  <thead>\n",
       "    <tr style=\"text-align: right;\">\n",
       "      <th></th>\n",
       "      <th>City</th>\n",
       "      <th>Gender</th>\n",
       "      <th>Annual Income</th>\n",
       "      <th>Assembly Constituency Name</th>\n",
       "      <th>Educational Qualification</th>\n",
       "      <th>No. of Family Members</th>\n",
       "      <th>No. of Earning members in the family</th>\n",
       "      <th>Occupation of Respondent</th>\n",
       "    </tr>\n",
       "  </thead>\n",
       "  <tbody>\n",
       "    <tr>\n",
       "      <th>City</th>\n",
       "      <td>1.000000</td>\n",
       "      <td>0.089116</td>\n",
       "      <td>0.045573</td>\n",
       "      <td>-0.013106</td>\n",
       "      <td>0.007707</td>\n",
       "      <td>0.011936</td>\n",
       "      <td>0.023612</td>\n",
       "      <td>0.040011</td>\n",
       "    </tr>\n",
       "    <tr>\n",
       "      <th>Gender</th>\n",
       "      <td>0.089116</td>\n",
       "      <td>1.000000</td>\n",
       "      <td>0.095134</td>\n",
       "      <td>-0.022972</td>\n",
       "      <td>-0.005490</td>\n",
       "      <td>0.046063</td>\n",
       "      <td>0.086857</td>\n",
       "      <td>0.125482</td>\n",
       "    </tr>\n",
       "    <tr>\n",
       "      <th>Annual Income</th>\n",
       "      <td>0.045573</td>\n",
       "      <td>0.095134</td>\n",
       "      <td>1.000000</td>\n",
       "      <td>0.019573</td>\n",
       "      <td>0.121191</td>\n",
       "      <td>0.091148</td>\n",
       "      <td>0.163052</td>\n",
       "      <td>0.039830</td>\n",
       "    </tr>\n",
       "    <tr>\n",
       "      <th>Assembly Constituency Name</th>\n",
       "      <td>-0.013106</td>\n",
       "      <td>-0.022972</td>\n",
       "      <td>0.019573</td>\n",
       "      <td>1.000000</td>\n",
       "      <td>0.000078</td>\n",
       "      <td>-0.033588</td>\n",
       "      <td>-0.007154</td>\n",
       "      <td>-0.008533</td>\n",
       "    </tr>\n",
       "    <tr>\n",
       "      <th>Educational Qualification</th>\n",
       "      <td>0.007707</td>\n",
       "      <td>-0.005490</td>\n",
       "      <td>0.121191</td>\n",
       "      <td>0.000078</td>\n",
       "      <td>1.000000</td>\n",
       "      <td>0.006220</td>\n",
       "      <td>0.051546</td>\n",
       "      <td>0.025688</td>\n",
       "    </tr>\n",
       "    <tr>\n",
       "      <th>No. of Family Members</th>\n",
       "      <td>0.011936</td>\n",
       "      <td>0.046063</td>\n",
       "      <td>0.091148</td>\n",
       "      <td>-0.033588</td>\n",
       "      <td>0.006220</td>\n",
       "      <td>1.000000</td>\n",
       "      <td>0.321270</td>\n",
       "      <td>0.052098</td>\n",
       "    </tr>\n",
       "    <tr>\n",
       "      <th>No. of Earning members in the family</th>\n",
       "      <td>0.023612</td>\n",
       "      <td>0.086857</td>\n",
       "      <td>0.163052</td>\n",
       "      <td>-0.007154</td>\n",
       "      <td>0.051546</td>\n",
       "      <td>0.321270</td>\n",
       "      <td>1.000000</td>\n",
       "      <td>-0.023446</td>\n",
       "    </tr>\n",
       "    <tr>\n",
       "      <th>Occupation of Respondent</th>\n",
       "      <td>0.040011</td>\n",
       "      <td>0.125482</td>\n",
       "      <td>0.039830</td>\n",
       "      <td>-0.008533</td>\n",
       "      <td>0.025688</td>\n",
       "      <td>0.052098</td>\n",
       "      <td>-0.023446</td>\n",
       "      <td>1.000000</td>\n",
       "    </tr>\n",
       "  </tbody>\n",
       "</table>\n",
       "</div>"
      ],
      "text/plain": [
       "                                          City    Gender  Annual Income  \\\n",
       "City                                  1.000000  0.089116       0.045573   \n",
       "Gender                                0.089116  1.000000       0.095134   \n",
       "Annual Income                         0.045573  0.095134       1.000000   \n",
       "Assembly Constituency Name           -0.013106 -0.022972       0.019573   \n",
       "Educational Qualification             0.007707 -0.005490       0.121191   \n",
       "No. of Family Members                 0.011936  0.046063       0.091148   \n",
       "No. of Earning members in the family  0.023612  0.086857       0.163052   \n",
       "Occupation of Respondent              0.040011  0.125482       0.039830   \n",
       "\n",
       "                                      Assembly Constituency Name  \\\n",
       "City                                                   -0.013106   \n",
       "Gender                                                 -0.022972   \n",
       "Annual Income                                           0.019573   \n",
       "Assembly Constituency Name                              1.000000   \n",
       "Educational Qualification                               0.000078   \n",
       "No. of Family Members                                  -0.033588   \n",
       "No. of Earning members in the family                   -0.007154   \n",
       "Occupation of Respondent                               -0.008533   \n",
       "\n",
       "                                      Educational Qualification  \\\n",
       "City                                                   0.007707   \n",
       "Gender                                                -0.005490   \n",
       "Annual Income                                          0.121191   \n",
       "Assembly Constituency Name                             0.000078   \n",
       "Educational Qualification                              1.000000   \n",
       "No. of Family Members                                  0.006220   \n",
       "No. of Earning members in the family                   0.051546   \n",
       "Occupation of Respondent                               0.025688   \n",
       "\n",
       "                                      No. of Family Members  \\\n",
       "City                                               0.011936   \n",
       "Gender                                             0.046063   \n",
       "Annual Income                                      0.091148   \n",
       "Assembly Constituency Name                        -0.033588   \n",
       "Educational Qualification                          0.006220   \n",
       "No. of Family Members                              1.000000   \n",
       "No. of Earning members in the family               0.321270   \n",
       "Occupation of Respondent                           0.052098   \n",
       "\n",
       "                                      No. of Earning members in the family  \\\n",
       "City                                                              0.023612   \n",
       "Gender                                                            0.086857   \n",
       "Annual Income                                                     0.163052   \n",
       "Assembly Constituency Name                                       -0.007154   \n",
       "Educational Qualification                                         0.051546   \n",
       "No. of Family Members                                             0.321270   \n",
       "No. of Earning members in the family                              1.000000   \n",
       "Occupation of Respondent                                         -0.023446   \n",
       "\n",
       "                                      Occupation of Respondent  \n",
       "City                                                  0.040011  \n",
       "Gender                                                0.125482  \n",
       "Annual Income                                         0.039830  \n",
       "Assembly Constituency Name                           -0.008533  \n",
       "Educational Qualification                             0.025688  \n",
       "No. of Family Members                                 0.052098  \n",
       "No. of Earning members in the family                 -0.023446  \n",
       "Occupation of Respondent                              1.000000  "
      ]
     },
     "execution_count": 18,
     "metadata": {},
     "output_type": "execute_result"
    }
   ],
   "source": [
    "df.corr()"
   ]
  },
  {
   "cell_type": "code",
   "execution_count": 20,
   "metadata": {},
   "outputs": [
    {
     "data": {
      "image/png": "[encoded data removed]",
      "text/plain": [
       "<Figure size 720x720 with 2 Axes>"
      ]
     },
     "metadata": {
      "needs_background": "light"
     },
     "output_type": "display_data"
    }
   ],
   "source": [
    "import seaborn as sns\n",
    "import matplotlib.pyplot as plt\n",
    "g = sns.heatmap(df.corr(),annot=True,fmt = \".2f\", cmap = \"coolwarm\")\n",
    "fig=plt.gcf()\n",
    "fig.set_size_inches(10,10)\n",
    "plt.show()"
   ]
  },
  {
   "cell_type": "code",
   "execution_count": 21,
   "metadata": {},
   "outputs": [
    {
     "data": {
      "text/plain": [
       "City                                    int32\n",
       "Gender                                  int32\n",
       "Annual Income                           int32\n",
       "Assembly Constituency Name              int32\n",
       "Educational Qualification               int32\n",
       "No. of Family Members                   int32\n",
       "No. of Earning members in the family    int64\n",
       "Occupation of Respondent                int32\n",
       "dtype: object"
      ]
     },
     "execution_count": 21,
     "metadata": {},
     "output_type": "execute_result"
    }
   ],
   "source": [
    "df.dtypes"
   ]
  },
  {
   "cell_type": "code",
   "execution_count": 22,
   "metadata": {
    "scrolled": true
   },
   "outputs": [
    {
     "data": {
      "text/html": [
       "<div>\n",
       "<style scoped>\n",
       "    .dataframe tbody tr th:only-of-type {\n",
       "        vertical-align: middle;\n",
       "    }\n",
       "\n",
       "    .dataframe tbody tr th {\n",
       "        vertical-align: top;\n",
       "    }\n",
       "\n",
       "    .dataframe thead th {\n",
       "        text-align: right;\n",
       "    }\n",
       "</style>\n",
       "<table border=\"1\" class=\"dataframe\">\n",
       "  <thead>\n",
       "    <tr style=\"text-align: right;\">\n",
       "      <th></th>\n",
       "      <th>City</th>\n",
       "      <th>Gender</th>\n",
       "      <th>Annual Income</th>\n",
       "      <th>Assembly Constituency Name</th>\n",
       "      <th>Educational Qualification</th>\n",
       "      <th>No. of Family Members</th>\n",
       "      <th>No. of Earning members in the family</th>\n",
       "      <th>Occupation of Respondent</th>\n",
       "    </tr>\n",
       "  </thead>\n",
       "  <tbody>\n",
       "    <tr>\n",
       "      <th>0</th>\n",
       "      <td>0</td>\n",
       "      <td>0</td>\n",
       "      <td>0</td>\n",
       "      <td>12</td>\n",
       "      <td>1</td>\n",
       "      <td>2</td>\n",
       "      <td>2</td>\n",
       "      <td>2</td>\n",
       "    </tr>\n",
       "    <tr>\n",
       "      <th>1</th>\n",
       "      <td>0</td>\n",
       "      <td>0</td>\n",
       "      <td>0</td>\n",
       "      <td>12</td>\n",
       "      <td>2</td>\n",
       "      <td>2</td>\n",
       "      <td>1</td>\n",
       "      <td>0</td>\n",
       "    </tr>\n",
       "    <tr>\n",
       "      <th>2</th>\n",
       "      <td>0</td>\n",
       "      <td>0</td>\n",
       "      <td>0</td>\n",
       "      <td>12</td>\n",
       "      <td>3</td>\n",
       "      <td>1</td>\n",
       "      <td>0</td>\n",
       "      <td>2</td>\n",
       "    </tr>\n",
       "    <tr>\n",
       "      <th>3</th>\n",
       "      <td>0</td>\n",
       "      <td>0</td>\n",
       "      <td>0</td>\n",
       "      <td>12</td>\n",
       "      <td>4</td>\n",
       "      <td>2</td>\n",
       "      <td>0</td>\n",
       "      <td>2</td>\n",
       "    </tr>\n",
       "    <tr>\n",
       "      <th>4</th>\n",
       "      <td>0</td>\n",
       "      <td>0</td>\n",
       "      <td>0</td>\n",
       "      <td>12</td>\n",
       "      <td>5</td>\n",
       "      <td>2</td>\n",
       "      <td>0</td>\n",
       "      <td>2</td>\n",
       "    </tr>\n",
       "  </tbody>\n",
       "</table>\n",
       "</div>"
      ],
      "text/plain": [
       "   City  Gender  Annual Income  Assembly Constituency Name  \\\n",
       "0     0       0              0                          12   \n",
       "1     0       0              0                          12   \n",
       "2     0       0              0                          12   \n",
       "3     0       0              0                          12   \n",
       "4     0       0              0                          12   \n",
       "\n",
       "   Educational Qualification  No. of Family Members  \\\n",
       "0                          1                      2   \n",
       "1                          2                      2   \n",
       "2                          3                      1   \n",
       "3                          4                      2   \n",
       "4                          5                      2   \n",
       "\n",
       "   No. of Earning members in the family  Occupation of Respondent  \n",
       "0                                     2                         2  \n",
       "1                                     1                         0  \n",
       "2                                     0                         2  \n",
       "3                                     0                         2  \n",
       "4                                     0                         2  "
      ]
     },
     "execution_count": 22,
     "metadata": {},
     "output_type": "execute_result"
    }
   ],
   "source": [
    "df.head()"
   ]
  },
  {
   "cell_type": "code",
   "execution_count": 23,
   "metadata": {},
   "outputs": [
    {
     "data": {
      "text/html": [
       "<div>\n",
       "<style scoped>\n",
       "    .dataframe tbody tr th:only-of-type {\n",
       "        vertical-align: middle;\n",
       "    }\n",
       "\n",
       "    .dataframe tbody tr th {\n",
       "        vertical-align: top;\n",
       "    }\n",
       "\n",
       "    .dataframe thead th {\n",
       "        text-align: right;\n",
       "    }\n",
       "</style>\n",
       "<table border=\"1\" class=\"dataframe\">\n",
       "  <thead>\n",
       "    <tr style=\"text-align: right;\">\n",
       "      <th></th>\n",
       "      <th>City</th>\n",
       "      <th>Gender</th>\n",
       "      <th>Annual Income</th>\n",
       "      <th>Assembly Constituency Name</th>\n",
       "      <th>Educational Qualification</th>\n",
       "      <th>No. of Family Members</th>\n",
       "      <th>No. of Earning members in the family</th>\n",
       "      <th>Occupation of Respondent</th>\n",
       "    </tr>\n",
       "  </thead>\n",
       "  <tbody>\n",
       "    <tr>\n",
       "      <th>count</th>\n",
       "      <td>51009.000000</td>\n",
       "      <td>51009.000000</td>\n",
       "      <td>51009.000000</td>\n",
       "      <td>51009.000000</td>\n",
       "      <td>51009.000000</td>\n",
       "      <td>51009.000000</td>\n",
       "      <td>51009.000000</td>\n",
       "      <td>51009.000000</td>\n",
       "    </tr>\n",
       "    <tr>\n",
       "      <th>mean</th>\n",
       "      <td>5.421337</td>\n",
       "      <td>0.534553</td>\n",
       "      <td>0.112157</td>\n",
       "      <td>227.359760</td>\n",
       "      <td>2.337529</td>\n",
       "      <td>1.359701</td>\n",
       "      <td>0.609598</td>\n",
       "      <td>2.308357</td>\n",
       "    </tr>\n",
       "    <tr>\n",
       "      <th>std</th>\n",
       "      <td>3.412886</td>\n",
       "      <td>0.498810</td>\n",
       "      <td>0.315562</td>\n",
       "      <td>132.090773</td>\n",
       "      <td>1.799858</td>\n",
       "      <td>0.633988</td>\n",
       "      <td>0.891014</td>\n",
       "      <td>1.506578</td>\n",
       "    </tr>\n",
       "    <tr>\n",
       "      <th>min</th>\n",
       "      <td>0.000000</td>\n",
       "      <td>0.000000</td>\n",
       "      <td>0.000000</td>\n",
       "      <td>0.000000</td>\n",
       "      <td>0.000000</td>\n",
       "      <td>0.000000</td>\n",
       "      <td>0.000000</td>\n",
       "      <td>0.000000</td>\n",
       "    </tr>\n",
       "    <tr>\n",
       "      <th>25%</th>\n",
       "      <td>3.000000</td>\n",
       "      <td>0.000000</td>\n",
       "      <td>0.000000</td>\n",
       "      <td>113.000000</td>\n",
       "      <td>1.000000</td>\n",
       "      <td>1.000000</td>\n",
       "      <td>0.000000</td>\n",
       "      <td>1.000000</td>\n",
       "    </tr>\n",
       "    <tr>\n",
       "      <th>50%</th>\n",
       "      <td>5.000000</td>\n",
       "      <td>1.000000</td>\n",
       "      <td>0.000000</td>\n",
       "      <td>224.000000</td>\n",
       "      <td>2.000000</td>\n",
       "      <td>1.000000</td>\n",
       "      <td>0.000000</td>\n",
       "      <td>2.000000</td>\n",
       "    </tr>\n",
       "    <tr>\n",
       "      <th>75%</th>\n",
       "      <td>8.000000</td>\n",
       "      <td>1.000000</td>\n",
       "      <td>0.000000</td>\n",
       "      <td>343.000000</td>\n",
       "      <td>4.000000</td>\n",
       "      <td>2.000000</td>\n",
       "      <td>1.000000</td>\n",
       "      <td>4.000000</td>\n",
       "    </tr>\n",
       "    <tr>\n",
       "      <th>max</th>\n",
       "      <td>12.000000</td>\n",
       "      <td>1.000000</td>\n",
       "      <td>1.000000</td>\n",
       "      <td>456.000000</td>\n",
       "      <td>6.000000</td>\n",
       "      <td>2.000000</td>\n",
       "      <td>9.000000</td>\n",
       "      <td>5.000000</td>\n",
       "    </tr>\n",
       "  </tbody>\n",
       "</table>\n",
       "</div>"
      ],
      "text/plain": [
       "               City        Gender  Annual Income  Assembly Constituency Name  \\\n",
       "count  51009.000000  51009.000000   51009.000000                51009.000000   \n",
       "mean       5.421337      0.534553       0.112157                  227.359760   \n",
       "std        3.412886      0.498810       0.315562                  132.090773   \n",
       "min        0.000000      0.000000       0.000000                    0.000000   \n",
       "25%        3.000000      0.000000       0.000000                  113.000000   \n",
       "50%        5.000000      1.000000       0.000000                  224.000000   \n",
       "75%        8.000000      1.000000       0.000000                  343.000000   \n",
       "max       12.000000      1.000000       1.000000                  456.000000   \n",
       "\n",
       "       Educational Qualification  No. of Family Members  \\\n",
       "count               51009.000000           51009.000000   \n",
       "mean                    2.337529               1.359701   \n",
       "std                     1.799858               0.633988   \n",
       "min                     0.000000               0.000000   \n",
       "25%                     1.000000               1.000000   \n",
       "50%                     2.000000               1.000000   \n",
       "75%                     4.000000               2.000000   \n",
       "max                     6.000000               2.000000   \n",
       "\n",
       "       No. of Earning members in the family  Occupation of Respondent  \n",
       "count                          51009.000000              51009.000000  \n",
       "mean                               0.609598                  2.308357  \n",
       "std                                0.891014                  1.506578  \n",
       "min                                0.000000                  0.000000  \n",
       "25%                                0.000000                  1.000000  \n",
       "50%                                0.000000                  2.000000  \n",
       "75%                                1.000000                  4.000000  \n",
       "max                                9.000000                  5.000000  "
      ]
     },
     "execution_count": 23,
     "metadata": {},
     "output_type": "execute_result"
    }
   ],
   "source": [
    "df.describe()   "
   ]
  },
  {
   "cell_type": "code",
   "execution_count": 24,
   "metadata": {},
   "outputs": [
    {
     "data": {
      "image/png": "[encoded data removed]",
      "text/plain": [
       "<Figure size 432x288 with 1 Axes>"
      ]
     },
     "metadata": {
      "needs_background": "light"
     },
     "output_type": "display_data"
    }
   ],
   "source": [
    "plt.plot(df['Annual Income'], df['No. of Earning members in the family'], \"b.\")\n",
    "plt.show()"
   ]
  },
  {
   "cell_type": "code",
   "execution_count": 25,
   "metadata": {
    "scrolled": true
   },
   "outputs": [
    {
     "data": {
      "image/png": "[encoded data removed]",
      "text/plain": [
       "<Figure size 432x288 with 1 Axes>"
      ]
     },
     "metadata": {
      "needs_background": "light"
     },
     "output_type": "display_data"
    }
   ],
   "source": [
    "plt.plot(df['Educational Qualification'],df['Annual Income'],  \"b.\")\n",
    "plt.show()"
   ]
  },
  {
   "cell_type": "code",
   "execution_count": 26,
   "metadata": {
    "scrolled": true
   },
   "outputs": [],
   "source": [
    "X = df[['No. of Earning members in the family','No. of Family Members','Educational Qualification','Gender']]\n",
    "Y = df['Annual Income']"
   ]
  },
  {
   "cell_type": "markdown",
   "metadata": {},
   "source": [
    "## Logistic Regression"
   ]
  },
  {
   "cell_type": "code",
   "execution_count": 27,
   "metadata": {},
   "outputs": [],
   "source": [
    "from sklearn.linear_model import LogisticRegression\n"
   ]
  },
  {
   "cell_type": "code",
   "execution_count": 28,
   "metadata": {},
   "outputs": [],
   "source": [
    "X = df[['No. of Earning members in the family','No. of Family Members','Educational Qualification','Gender']]\n",
    "Y = df['Annual Income']"
   ]
  },
  {
   "cell_type": "code",
   "execution_count": 30,
   "metadata": {},
   "outputs": [],
   "source": [
    "from sklearn.model_selection import train_test_split\n",
    "# Splitting the dataset into the Training set and Test set\n",
    "X_train, X_test, y_train, y_test = train_test_split(X, Y, test_size = 0.2, random_state = 0)"
   ]
  },
  {
   "cell_type": "code",
   "execution_count": 31,
   "metadata": {},
   "outputs": [
    {
     "data": {
      "text/plain": [
       "LogisticRegression(class_weight='balanced', random_state=0)"
      ]
     },
     "execution_count": 31,
     "metadata": {},
     "output_type": "execute_result"
    }
   ],
   "source": [
    "# Initialize an instance of class LogisticRegression\n",
    "logistic_model = LogisticRegression(class_weight='balanced',random_state=0, solver='lbfgs')\n",
    "\n",
    "\n",
    "# Fit our chosen model on the given data\n",
    "logistic_model.fit(X_train, y_train)"
   ]
  },
  {
   "cell_type": "code",
   "execution_count": 32,
   "metadata": {},
   "outputs": [],
   "source": [
    "# Predicting our model on the validation data\n",
    "y_pred = logistic_model.predict(X_test)"
   ]
  },
  {
   "cell_type": "code",
   "execution_count": 33,
   "metadata": {
    "scrolled": true
   },
   "outputs": [
    {
     "data": {
      "text/plain": [
       "array([0, 0, 1, ..., 0, 0, 0])"
      ]
     },
     "execution_count": 33,
     "metadata": {},
     "output_type": "execute_result"
    }
   ],
   "source": [
    "y_pred"
   ]
  },
  {
   "cell_type": "markdown",
   "metadata": {},
   "source": [
    "## Accuracy"
   ]
  },
  {
   "cell_type": "code",
   "execution_count": 35,
   "metadata": {},
   "outputs": [
    {
     "data": {
      "text/plain": [
       "0.6654577533816899"
      ]
     },
     "execution_count": 35,
     "metadata": {},
     "output_type": "execute_result"
    }
   ],
   "source": [
    "from sklearn.metrics import accuracy_score, roc_auc_score, confusion_matrix\n",
    "accuracy_score(y_test,y_pred)"
   ]
  },
  {
   "cell_type": "code",
   "execution_count": 36,
   "metadata": {},
   "outputs": [],
   "source": [
    "y_pred_prob = logistic_model.predict_proba(X_test)"
   ]
  },
  {
   "cell_type": "code",
   "execution_count": 37,
   "metadata": {},
   "outputs": [
    {
     "data": {
      "text/plain": [
       "array([[0.70193369, 0.29806631],\n",
       "       [0.66803757, 0.33196243],\n",
       "       [0.14904887, 0.85095113],\n",
       "       ...,\n",
       "       [0.68161778, 0.31838222],\n",
       "       [0.51583301, 0.48416699],\n",
       "       [0.60911049, 0.39088951]])"
      ]
     },
     "execution_count": 37,
     "metadata": {},
     "output_type": "execute_result"
    }
   ],
   "source": [
    "y_pred_prob"
   ]
  },
  {
   "cell_type": "code",
   "execution_count": 38,
   "metadata": {},
   "outputs": [
    {
     "data": {
      "text/plain": [
       "array([[0.40546173, 0.25574786, 0.193854  , 0.54490837]])"
      ]
     },
     "execution_count": 38,
     "metadata": {},
     "output_type": "execute_result"
    }
   ],
   "source": [
    "logistic_model.coef_"
   ]
  },
  {
   "cell_type": "code",
   "execution_count": 39,
   "metadata": {
    "scrolled": true
   },
   "outputs": [
    {
     "data": {
      "text/plain": [
       "array([-1.49997883])"
      ]
     },
     "execution_count": 39,
     "metadata": {},
     "output_type": "execute_result"
    }
   ],
   "source": [
    "logistic_model.intercept_"
   ]
  },
  {
   "cell_type": "markdown",
   "metadata": {},
   "source": [
    "## Confusion Matrix"
   ]
  },
  {
   "cell_type": "code",
   "execution_count": 40,
   "metadata": {
    "scrolled": false
   },
   "outputs": [
    {
     "name": "stdout",
     "output_type": "stream",
     "text": [
      "[[6036 2988]\n",
      " [ 425  753]]\n",
      "0    9024\n",
      "1    1178\n",
      "Name: Annual Income, dtype: int64\n"
     ]
    }
   ],
   "source": [
    "# Confusion Matrix\n",
    "print(confusion_matrix(y_test,y_pred))\n",
    "\n",
    "print(y_test.value_counts())"
   ]
  },
  {
   "cell_type": "markdown",
   "metadata": {},
   "source": [
    "## ROC AUC Curve"
   ]
  },
  {
   "cell_type": "code",
   "execution_count": 41,
   "metadata": {},
   "outputs": [
    {
     "data": {
      "image/png": "[encoded data removed]",
      "text/plain": [
       "<Figure size 432x288 with 1 Axes>"
      ]
     },
     "metadata": {
      "needs_background": "light"
     },
     "output_type": "display_data"
    }
   ],
   "source": [
    "import sklearn.metrics as metrics\n",
    "# calculate the fpr and tpr for all thresholds of the classification\n",
    "probs =logistic_model.predict_proba(X_test)\n",
    "preds = probs[:,1]\n",
    "fpr, tpr, threshold = metrics.roc_curve(y_test, preds)\n",
    "roc_auc = metrics.auc(fpr, tpr)\n",
    "\n",
    "# method I: plt\n",
    "import matplotlib.pyplot as plt\n",
    "plt.title('Receiver Operating Characteristic')\n",
    "plt.plot(fpr, tpr, 'b', label = 'AUC = %0.2f' % roc_auc)\n",
    "plt.legend(loc = 'lower right')\n",
    "plt.plot([0, 1], [0, 1],'r--')\n",
    "plt.xlim([0, 1])\n",
    "plt.ylim([0, 1])\n",
    "plt.ylabel('True Positive Rate')\n",
    "plt.xlabel('False Positive Rate')\n",
    "plt.show()"
   ]
  },
  {
   "cell_type": "markdown",
   "metadata": {},
   "source": [
    "# SVM"
   ]
  },
  {
   "cell_type": "code",
   "execution_count": 42,
   "metadata": {},
   "outputs": [],
   "source": [
    "import sklearn.svm as svm"
   ]
  },
  {
   "cell_type": "code",
   "execution_count": 43,
   "metadata": {},
   "outputs": [],
   "source": [
    "X = df[['No. of Earning members in the family','No. of Family Members','Educational Qualification','Gender']]\n",
    "Y = df['Annual Income']\n",
    "\n",
    "# Splitting the dataset into the Training set and Test set\n",
    "X_train, X_test, y_train, y_test = train_test_split(X, Y, test_size = 0.2, random_state = 0)"
   ]
  },
  {
   "cell_type": "code",
   "execution_count": 44,
   "metadata": {
    "scrolled": true
   },
   "outputs": [
    {
     "data": {
      "text/plain": [
       "SVC(kernel='linear', probability=True)"
      ]
     },
     "execution_count": 44,
     "metadata": {},
     "output_type": "execute_result"
    }
   ],
   "source": [
    "svm1 = svm.SVC(kernel='linear',probability=True)      #‘linear’, ‘poly’, ‘rbf’, ‘sigmoid’, ‘precomputed’\n",
    "svm1.fit(X_train, y_train)"
   ]
  },
  {
   "cell_type": "code",
   "execution_count": 45,
   "metadata": {},
   "outputs": [],
   "source": [
    "pred = svm1.predict(X_test)"
   ]
  },
  {
   "cell_type": "code",
   "execution_count": 46,
   "metadata": {
    "scrolled": true
   },
   "outputs": [
    {
     "data": {
      "text/plain": [
       "array([0, 0, 0, ..., 0, 0, 0])"
      ]
     },
     "execution_count": 46,
     "metadata": {},
     "output_type": "execute_result"
    }
   ],
   "source": [
    "pred"
   ]
  },
  {
   "cell_type": "markdown",
   "metadata": {},
   "source": [
    "## Accuracy"
   ]
  },
  {
   "cell_type": "code",
   "execution_count": 47,
   "metadata": {
    "scrolled": true
   },
   "outputs": [
    {
     "data": {
      "text/plain": [
       "88.45324446187021"
      ]
     },
     "execution_count": 47,
     "metadata": {},
     "output_type": "execute_result"
    }
   ],
   "source": [
    "accuracy_score(y_test,pred)*100"
   ]
  },
  {
   "cell_type": "markdown",
   "metadata": {},
   "source": [
    "## Confusion Matrix"
   ]
  },
  {
   "cell_type": "code",
   "execution_count": 48,
   "metadata": {},
   "outputs": [
    {
     "name": "stdout",
     "output_type": "stream",
     "text": [
      "[[9024    0]\n",
      " [1178    0]]\n",
      "0    9024\n",
      "1    1178\n",
      "Name: Annual Income, dtype: int64\n"
     ]
    }
   ],
   "source": [
    "# Confusion Matrix\n",
    "print(confusion_matrix(y_test,pred))\n",
    "\n",
    "print(y_test.value_counts())"
   ]
  },
  {
   "cell_type": "markdown",
   "metadata": {},
   "source": [
    "## ROC AUC Curve"
   ]
  },
  {
   "cell_type": "code",
   "execution_count": 82,
   "metadata": {
    "scrolled": false
   },
   "outputs": [
    {
     "data": {
      "image/png": "[encoded data removed]",
      "text/plain": [
       "<Figure size 432x288 with 1 Axes>"
      ]
     },
     "metadata": {
      "needs_background": "light"
     },
     "output_type": "display_data"
    }
   ],
   "source": [
    "import sklearn.metrics as metrics\n",
    "# calculate the fpr and tpr for all thresholds of the classification\n",
    "probs = svm1.predict_proba(X_test)\n",
    "preds = probs[:,1]\n",
    "fpr, tpr, threshold = metrics.roc_curve(y_test, preds)\n",
    "roc_auc = metrics.auc(fpr, tpr)\n",
    "\n",
    "# method I: plt\n",
    "import matplotlib.pyplot as plt\n",
    "plt.title('Receiver Operating Characteristic')\n",
    "plt.plot(fpr, tpr, 'b', label = 'AUC = %0.2f' % roc_auc)\n",
    "plt.legend(loc = 'lower right')\n",
    "plt.plot([0, 1], [0, 1],'r--')\n",
    "plt.xlim([0, 1])\n",
    "plt.ylim([0, 1])\n",
    "plt.ylabel('True Positive Rate')\n",
    "plt.xlabel('False Positive Rate')\n",
    "plt.show()"
   ]
  },
  {
   "cell_type": "markdown",
   "metadata": {},
   "source": [
    "# KNN "
   ]
  },
  {
   "cell_type": "code",
   "execution_count": 49,
   "metadata": {},
   "outputs": [],
   "source": [
    "import sklearn.neighbors as nbr"
   ]
  },
  {
   "cell_type": "code",
   "execution_count": 50,
   "metadata": {},
   "outputs": [],
   "source": [
    "X = df[['No. of Earning members in the family','No. of Family Members','Educational Qualification','Gender']]\n",
    "Y = df['Annual Income']"
   ]
  },
  {
   "cell_type": "code",
   "execution_count": 51,
   "metadata": {},
   "outputs": [],
   "source": [
    "# Splitting the dataset into the Training set and Test set\n",
    "from sklearn.model_selection import train_test_split\n",
    "X_train, X_test, y_train, y_test = train_test_split(X, Y, test_size = 0.2, random_state = 0)"
   ]
  },
  {
   "cell_type": "code",
   "execution_count": 53,
   "metadata": {
    "scrolled": true
   },
   "outputs": [
    {
     "data": {
      "text/plain": [
       "KNeighborsClassifier(algorithm='brute', n_neighbors=10)"
      ]
     },
     "execution_count": 53,
     "metadata": {},
     "output_type": "execute_result"
    }
   ],
   "source": [
    "knn = nbr.KNeighborsClassifier(algorithm='brute',n_neighbors=10)\n",
    "knn.fit(X_train, y_train)"
   ]
  },
  {
   "cell_type": "code",
   "execution_count": 54,
   "metadata": {},
   "outputs": [],
   "source": [
    "pred = knn.predict(X_test)"
   ]
  },
  {
   "cell_type": "markdown",
   "metadata": {},
   "source": [
    "## Accuracy"
   ]
  },
  {
   "cell_type": "code",
   "execution_count": 55,
   "metadata": {
    "scrolled": false
   },
   "outputs": [
    {
     "data": {
      "text/plain": [
       "88.1003724759851"
      ]
     },
     "execution_count": 55,
     "metadata": {},
     "output_type": "execute_result"
    }
   ],
   "source": [
    "accuracy_score(y_test,pred)*100"
   ]
  },
  {
   "cell_type": "markdown",
   "metadata": {},
   "source": [
    "## Confusion Matrix"
   ]
  },
  {
   "cell_type": "code",
   "execution_count": 56,
   "metadata": {},
   "outputs": [
    {
     "name": "stdout",
     "output_type": "stream",
     "text": [
      "[[8914  110]\n",
      " [1104   74]]\n",
      "0    9024\n",
      "1    1178\n",
      "Name: Annual Income, dtype: int64\n"
     ]
    }
   ],
   "source": [
    "# Confusion Matrix\n",
    "print(confusion_matrix(y_test,pred))\n",
    "\n",
    "print(y_test.value_counts())"
   ]
  },
  {
   "cell_type": "markdown",
   "metadata": {},
   "source": [
    "## ROC AUC Curve"
   ]
  },
  {
   "cell_type": "code",
   "execution_count": 74,
   "metadata": {},
   "outputs": [
    {
     "data": {
      "image/png": "[encoded data removed]",
      "text/plain": [
       "<Figure size 432x288 with 1 Axes>"
      ]
     },
     "metadata": {
      "needs_background": "light"
     },
     "output_type": "display_data"
    }
   ],
   "source": [
    "import sklearn.metrics as metrics\n",
    "# calculate the fpr and tpr for all thresholds of the classification\n",
    "probs = knn.predict_proba(X_test)\n",
    "preds = probs[:,1]\n",
    "fpr, tpr, threshold = metrics.roc_curve(y_test, preds)\n",
    "roc_auc = metrics.auc(fpr, tpr)\n",
    "\n",
    "# method I: plt\n",
    "import matplotlib.pyplot as plt\n",
    "plt.title('Receiver Operating Characteristic')\n",
    "plt.plot(fpr, tpr, 'b', label = 'AUC = %0.2f' % roc_auc)\n",
    "plt.legend(loc = 'lower right')\n",
    "plt.plot([0, 1], [0, 1],'r--')\n",
    "plt.xlim([0, 1])\n",
    "plt.ylim([0, 1])\n",
    "plt.ylabel('True Positive Rate')\n",
    "plt.xlabel('False Positive Rate')\n",
    "plt.show()"
   ]
  },
  {
   "cell_type": "markdown",
   "metadata": {},
   "source": [
    "# Random Forest"
   ]
  },
  {
   "cell_type": "code",
   "execution_count": 57,
   "metadata": {},
   "outputs": [],
   "source": [
    "from sklearn.ensemble import RandomForestClassifier"
   ]
  },
  {
   "cell_type": "code",
   "execution_count": 58,
   "metadata": {},
   "outputs": [],
   "source": [
    "X = df[['No. of Earning members in the family','No. of Family Members','Educational Qualification','Gender']]\n",
    "Y = df['Annual Income']"
   ]
  },
  {
   "cell_type": "code",
   "execution_count": 59,
   "metadata": {},
   "outputs": [],
   "source": [
    "# Splitting the dataset into the Training set and Test set\n",
    "X_train, X_test, Y_train, Y_test = train_test_split(X, Y, test_size = 0.2, random_state = 0, stratify = Y)"
   ]
  },
  {
   "cell_type": "code",
   "execution_count": 60,
   "metadata": {},
   "outputs": [
    {
     "name": "stdout",
     "output_type": "stream",
     "text": [
      "Distribution of classes of dependent variable in train :\n",
      "0    36230\n",
      "1     4577\n",
      "Name: Annual Income, dtype: int64\n",
      "\n",
      " Distribution of classes of dependent variable in test :\n",
      "0    9058\n",
      "1    1144\n",
      "Name: Annual Income, dtype: int64\n"
     ]
    }
   ],
   "source": [
    "print(\"Distribution of classes of dependent variable in train :\")\n",
    "print(Y_train.value_counts())\n",
    "\n",
    "print(\"\\n Distribution of classes of dependent variable in test :\")\n",
    "print(Y_test.value_counts())"
   ]
  },
  {
   "cell_type": "code",
   "execution_count": 61,
   "metadata": {},
   "outputs": [
    {
     "data": {
      "text/plain": [
       "RandomForestClassifier(class_weight='balanced', n_estimators=50, random_state=0)"
      ]
     },
     "execution_count": 61,
     "metadata": {},
     "output_type": "execute_result"
    }
   ],
   "source": [
    "# Create a rf_classifier object with number of trees set to 50\n",
    "rf_classifier = RandomForestClassifier(class_weight='balanced',n_estimators=50,random_state=0)\n",
    "\n",
    "# Fit the object to train dataset\n",
    "rf_classifier.fit(X_train, Y_train)"
   ]
  },
  {
   "cell_type": "code",
   "execution_count": 62,
   "metadata": {},
   "outputs": [],
   "source": [
    "train_preds =  rf_classifier.predict(X_train)\n",
    "test_preds  = rf_classifier.predict(X_test)"
   ]
  },
  {
   "cell_type": "code",
   "execution_count": 63,
   "metadata": {
    "scrolled": true
   },
   "outputs": [
    {
     "data": {
      "text/plain": [
       "0.7016933369274879"
      ]
     },
     "execution_count": 63,
     "metadata": {},
     "output_type": "execute_result"
    }
   ],
   "source": [
    "# Obtain accuracy on train set\n",
    "accuracy_score(Y_train,train_preds)"
   ]
  },
  {
   "cell_type": "markdown",
   "metadata": {},
   "source": [
    "## Accuracy"
   ]
  },
  {
   "cell_type": "code",
   "execution_count": 64,
   "metadata": {},
   "outputs": [
    {
     "data": {
      "text/plain": [
       "0.6949617722015291"
      ]
     },
     "execution_count": 64,
     "metadata": {},
     "output_type": "execute_result"
    }
   ],
   "source": [
    "# Obtain accuracy on test set\n",
    "accuracy_score(Y_test,test_preds)"
   ]
  },
  {
   "cell_type": "code",
   "execution_count": 65,
   "metadata": {
    "scrolled": true
   },
   "outputs": [
    {
     "data": {
      "text/plain": [
       "array([[25534, 10696],\n",
       "       [ 1477,  3100]], dtype=int64)"
      ]
     },
     "execution_count": 65,
     "metadata": {},
     "output_type": "execute_result"
    }
   ],
   "source": [
    "# Obtain the confusion matrix on train set\n",
    "confusion_matrix(Y_train,train_preds)"
   ]
  },
  {
   "cell_type": "markdown",
   "metadata": {},
   "source": [
    "## Confusion Matrix"
   ]
  },
  {
   "cell_type": "code",
   "execution_count": 66,
   "metadata": {
    "scrolled": true
   },
   "outputs": [
    {
     "data": {
      "text/plain": [
       "array([[6344, 2714],\n",
       "       [ 398,  746]], dtype=int64)"
      ]
     },
     "execution_count": 66,
     "metadata": {},
     "output_type": "execute_result"
    }
   ],
   "source": [
    "# Obtain the confusion matrix on test set\n",
    "confusion_matrix(Y_test,test_preds)"
   ]
  },
  {
   "cell_type": "markdown",
   "metadata": {},
   "source": [
    "## ROC AUC Curve"
   ]
  },
  {
   "cell_type": "code",
   "execution_count": 67,
   "metadata": {},
   "outputs": [
    {
     "data": {
      "image/png": "[encoded data removed]",
      "text/plain": [
       "<Figure size 432x288 with 1 Axes>"
      ]
     },
     "metadata": {
      "needs_background": "light"
     },
     "output_type": "display_data"
    }
   ],
   "source": [
    "import sklearn.metrics as metrics\n",
    "# calculate the fpr and tpr for all thresholds of the classification\n",
    "probs = rf_classifier.predict_proba(X_test)\n",
    "preds = probs[:,1]\n",
    "fpr, tpr, threshold = metrics.roc_curve(Y_test, preds)\n",
    "roc_auc = metrics.auc(fpr, tpr)\n",
    "\n",
    "# method I: plt\n",
    "import matplotlib.pyplot as plt\n",
    "plt.title('Receiver Operating Characteristic')\n",
    "plt.plot(fpr, tpr, 'b', label = 'AUC = %0.2f' % roc_auc)\n",
    "plt.legend(loc = 'lower right')\n",
    "plt.plot([0, 1], [0, 1],'r--')\n",
    "plt.xlim([0, 1])\n",
    "plt.ylim([0, 1])\n",
    "plt.ylabel('True Positive Rate')\n",
    "plt.xlabel('False Positive Rate')\n",
    "plt.show()"
   ]
  },
  {
   "cell_type": "code",
   "execution_count": 68,
   "metadata": {},
   "outputs": [],
   "source": [
    "import numpy as np\n",
    "\n",
    "features = X_train.columns\n",
    "importances = rf_classifier.feature_importances_\n",
    "indices = np.argsort(importances)"
   ]
  },
  {
   "cell_type": "code",
   "execution_count": 69,
   "metadata": {},
   "outputs": [
    {
     "data": {
      "image/png": "[encoded data removed]",
      "text/plain": [
       "<Figure size 432x288 with 1 Axes>"
      ]
     },
     "metadata": {
      "needs_background": "light"
     },
     "output_type": "display_data"
    }
   ],
   "source": [
    "plt.title('Feature Importance')\n",
    "plt.barh(range(len(indices)), importances[indices], color='black', align='center')\n",
    "plt.yticks(range(len(indices)), [features[i] for i in indices])\n",
    "plt.xlabel('Relative Importance')\n",
    "\n",
    "plt.show()"
   ]
  },
  {
   "cell_type": "markdown",
   "metadata": {},
   "source": [
    "## Naive Bayes Classifier"
   ]
  },
  {
   "cell_type": "code",
   "execution_count": 70,
   "metadata": {},
   "outputs": [],
   "source": [
    "# Importing the required libraries\n",
    "from sklearn.model_selection import train_test_split\n",
    "from sklearn.naive_bayes import GaussianNB\n",
    "from sklearn.metrics import accuracy_score, roc_auc_score, confusion_matrix"
   ]
  },
  {
   "cell_type": "code",
   "execution_count": 71,
   "metadata": {
    "scrolled": true
   },
   "outputs": [],
   "source": [
    "# Splitting the dataset into the Training set and Test set\n",
    "X_train, X_test, y_train, y_test = train_test_split(X, Y, test_size = 0.2, random_state = 0)"
   ]
  },
  {
   "cell_type": "code",
   "execution_count": 72,
   "metadata": {},
   "outputs": [],
   "source": [
    "# Fit our Naive Bayes model to training data\n",
    "GNB = GaussianNB()\n",
    "naive_bayes_classifier = GNB.fit(X_train, y_train)"
   ]
  },
  {
   "cell_type": "code",
   "execution_count": 73,
   "metadata": {},
   "outputs": [],
   "source": [
    "# Predicting our model on the validation data\n",
    "pred_test = naive_bayes_classifier.predict(X_test)"
   ]
  },
  {
   "cell_type": "code",
   "execution_count": 74,
   "metadata": {
    "scrolled": true
   },
   "outputs": [
    {
     "data": {
      "text/plain": [
       "array([0, 0, 1, ..., 0, 0, 0])"
      ]
     },
     "execution_count": 74,
     "metadata": {},
     "output_type": "execute_result"
    }
   ],
   "source": [
    "pred_test"
   ]
  },
  {
   "cell_type": "markdown",
   "metadata": {},
   "source": [
    "## Accuracy"
   ]
  },
  {
   "cell_type": "code",
   "execution_count": 75,
   "metadata": {},
   "outputs": [
    {
     "data": {
      "text/plain": [
       "0.875122524995099"
      ]
     },
     "execution_count": 75,
     "metadata": {},
     "output_type": "execute_result"
    }
   ],
   "source": [
    "accuracy_score(y_test,pred_test)"
   ]
  },
  {
   "cell_type": "markdown",
   "metadata": {},
   "source": [
    "## Confusion Matrix for Naive Bayes Classifier "
   ]
  },
  {
   "cell_type": "code",
   "execution_count": 76,
   "metadata": {},
   "outputs": [],
   "source": [
    "from sklearn.metrics import confusion_matrix"
   ]
  },
  {
   "cell_type": "code",
   "execution_count": 77,
   "metadata": {},
   "outputs": [
    {
     "data": {
      "text/plain": [
       "array([[8799,  225],\n",
       "       [1049,  129]], dtype=int64)"
      ]
     },
     "execution_count": 77,
     "metadata": {},
     "output_type": "execute_result"
    }
   ],
   "source": [
    "# Confusion Matrix\n",
    "confusion_matrix(y_test,pred_test)"
   ]
  },
  {
   "cell_type": "code",
   "execution_count": 78,
   "metadata": {
    "scrolled": true
   },
   "outputs": [
    {
     "data": {
      "text/plain": [
       "0    9024\n",
       "1    1178\n",
       "Name: Annual Income, dtype: int64"
      ]
     },
     "execution_count": 78,
     "metadata": {},
     "output_type": "execute_result"
    }
   ],
   "source": [
    "y_test.value_counts()"
   ]
  },
  {
   "cell_type": "markdown",
   "metadata": {},
   "source": [
    "## ROC AUC Curve"
   ]
  },
  {
   "cell_type": "code",
   "execution_count": 42,
   "metadata": {},
   "outputs": [
    {
     "data": {
      "image/png": "[encoded data removed]",
      "text/plain": [
       "<Figure size 432x288 with 1 Axes>"
      ]
     },
     "metadata": {
      "needs_background": "light"
     },
     "output_type": "display_data"
    }
   ],
   "source": [
    "import sklearn.metrics as metrics\n",
    "# calculate the fpr and tpr for all thresholds of the classification\n",
    "probs =naive_bayes_classifier.predict_proba(X_test)\n",
    "preds = probs[:,1]\n",
    "fpr, tpr, threshold = metrics.roc_curve(y_test, preds)\n",
    "roc_auc = metrics.auc(fpr, tpr)\n",
    "\n",
    "# method I: plt\n",
    "import matplotlib.pyplot as plt\n",
    "plt.title('Receiver Operating Characteristic')\n",
    "plt.plot(fpr, tpr, 'b', label = 'AUC = %0.2f' % roc_auc)\n",
    "plt.legend(loc = 'lower right')\n",
    "plt.plot([0, 1], [0, 1],'r--')\n",
    "plt.xlim([0, 1])\n",
    "plt.ylim([0, 1])\n",
    "plt.ylabel('True Positive Rate')\n",
    "plt.xlabel('False Positive Rate')\n",
    "plt.show()"
   ]
  },
  {
   "cell_type": "markdown",
   "metadata": {},
   "source": [
    "# Decision Tree"
   ]
  },
  {
   "cell_type": "code",
   "execution_count": 79,
   "metadata": {},
   "outputs": [],
   "source": [
    "from sklearn.tree import DecisionTreeClassifier"
   ]
  },
  {
   "cell_type": "code",
   "execution_count": 80,
   "metadata": {},
   "outputs": [],
   "source": [
    "X = df[['No. of Earning members in the family','No. of Family Members','Educational Qualification','Gender']]\n",
    "Y = df['Annual Income']"
   ]
  },
  {
   "cell_type": "code",
   "execution_count": 81,
   "metadata": {},
   "outputs": [],
   "source": [
    "X_train,X_test,y_train,y_test = train_test_split(X,Y,test_size=0.2,random_state=0)"
   ]
  },
  {
   "cell_type": "code",
   "execution_count": 82,
   "metadata": {
    "scrolled": true
   },
   "outputs": [
    {
     "data": {
      "text/plain": [
       "DecisionTreeClassifier(class_weight='balanced', max_leaf_nodes=15,\n",
       "                       random_state=0)"
      ]
     },
     "execution_count": 82,
     "metadata": {},
     "output_type": "execute_result"
    }
   ],
   "source": [
    "i_classifier = DecisionTreeClassifier(class_weight='balanced',max_leaf_nodes=15,criterion='gini',random_state=0)\n",
    "i_classifier.fit(X_train,y_train)"
   ]
  },
  {
   "cell_type": "code",
   "execution_count": 83,
   "metadata": {},
   "outputs": [],
   "source": [
    "y_predicted = i_classifier.predict(X_test)"
   ]
  },
  {
   "cell_type": "code",
   "execution_count": 84,
   "metadata": {},
   "outputs": [
    {
     "data": {
      "text/plain": [
       "array([0, 0, 1, 0, 1, 0, 1, 0, 1, 1])"
      ]
     },
     "execution_count": 84,
     "metadata": {},
     "output_type": "execute_result"
    }
   ],
   "source": [
    "y_predicted[:10]"
   ]
  },
  {
   "cell_type": "code",
   "execution_count": 85,
   "metadata": {
    "scrolled": true
   },
   "outputs": [
    {
     "data": {
      "text/plain": [
       "29126    0\n",
       "25838    0\n",
       "37197    0\n",
       "33978    0\n",
       "2924     0\n",
       "29017    0\n",
       "47915    1\n",
       "14555    0\n",
       "7411     1\n",
       "29496    1\n",
       "Name: Annual Income, dtype: int32"
      ]
     },
     "execution_count": 85,
     "metadata": {},
     "output_type": "execute_result"
    }
   ],
   "source": [
    "y_test[:10]"
   ]
  },
  {
   "cell_type": "markdown",
   "metadata": {},
   "source": [
    "## Accuracy"
   ]
  },
  {
   "cell_type": "code",
   "execution_count": 86,
   "metadata": {},
   "outputs": [
    {
     "data": {
      "text/plain": [
       "70.15291119388355"
      ]
     },
     "execution_count": 86,
     "metadata": {},
     "output_type": "execute_result"
    }
   ],
   "source": [
    "accuracy_score(y_test,y_predicted)*100"
   ]
  },
  {
   "cell_type": "markdown",
   "metadata": {},
   "source": [
    "## Confusion Matrix"
   ]
  },
  {
   "cell_type": "code",
   "execution_count": 87,
   "metadata": {},
   "outputs": [
    {
     "data": {
      "text/plain": [
       "array([[6378, 2646],\n",
       "       [ 399,  779]], dtype=int64)"
      ]
     },
     "execution_count": 87,
     "metadata": {},
     "output_type": "execute_result"
    }
   ],
   "source": [
    "# Confusion Matrix\n",
    "confusion_matrix(y_test,y_predicted)"
   ]
  },
  {
   "cell_type": "code",
   "execution_count": 88,
   "metadata": {},
   "outputs": [
    {
     "data": {
      "text/plain": [
       "0    9024\n",
       "1    1178\n",
       "Name: Annual Income, dtype: int64"
      ]
     },
     "execution_count": 88,
     "metadata": {},
     "output_type": "execute_result"
    }
   ],
   "source": [
    "y_test.value_counts()"
   ]
  },
  {
   "cell_type": "markdown",
   "metadata": {},
   "source": [
    "## AUC ROC Curve"
   ]
  },
  {
   "cell_type": "code",
   "execution_count": 89,
   "metadata": {},
   "outputs": [
    {
     "data": {
      "image/png": "[encoded data removed]",
      "text/plain": [
       "<Figure size 432x288 with 1 Axes>"
      ]
     },
     "metadata": {
      "needs_background": "light"
     },
     "output_type": "display_data"
    }
   ],
   "source": [
    "import sklearn.metrics as metrics\n",
    "# calculate the fpr and tpr for all thresholds of the classification\n",
    "probs =i_classifier.predict_proba(X_test)\n",
    "preds = probs[:,1]\n",
    "fpr, tpr, threshold = metrics.roc_curve(y_test, preds)\n",
    "roc_auc = metrics.auc(fpr, tpr)\n",
    "\n",
    "# method I: plt\n",
    "import matplotlib.pyplot as plt\n",
    "plt.title('Receiver Operating Characteristic')\n",
    "plt.plot(fpr, tpr, 'b', label = 'AUC = %0.2f' % roc_auc)\n",
    "plt.legend(loc = 'lower right')\n",
    "plt.plot([0, 1], [0, 1],'r--')\n",
    "plt.xlim([0, 1])\n",
    "plt.ylim([0, 1])\n",
    "plt.ylabel('True Positive Rate')\n",
    "plt.xlabel('False Positive Rate')\n",
    "plt.show()"
   ]
  },
  {
   "cell_type": "code",
   "execution_count": null,
   "metadata": {},
   "outputs": [],
   "source": []
  }
 ],
 "metadata": {
  "kernelspec": {
   "display_name": "Python 3",
   "language": "python",
   "name": "python3"
  },
  "language_info": {
   "codemirror_mode": {
    "name": "ipython",
    "version": 3
   },
   "file_extension": ".py",
   "mimetype": "text/x-python",
   "name": "python",
   "nbconvert_exporter": "python",
   "pygments_lexer": "ipython3",
   "version": "3.7.3"
  }
 },
 "nbformat": 4,
 "nbformat_minor": 2
}
